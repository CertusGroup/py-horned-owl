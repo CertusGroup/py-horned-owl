{
 "cells": [
  {
   "cell_type": "markdown",
   "metadata": {},
   "source": [
    "# Examples of Working with Ontologies in Python\n",
    "\n",
    "## Use Cases / Task Descriptions\n",
    "\n",
    "Here are some common ontology tasks that I regularly need to do in Python, or would like to do in Python. \n",
    "\n",
    "1. Finding content in an ontology: \n",
    "- Load an ontology from a local file\n",
    "- Extract all the labels and synonyms of entities\n",
    "- Find hierarchical relationships up, down (root, leaves)\n",
    "- Find leaves with certain annotations\n",
    "- Find targets of a given relationship type in combination with certain annotations\n",
    "\n",
    "2. Modifying content in an ontology: \n",
    "- Add a new entity to an ontology\n",
    "- Change the attributes of existing entities following some pattern (e.g. change metadata type, add annotations)\n",
    "- Add axioms to existing entities\n",
    "- Save amended ontology\n",
    "\n",
    "3. Reason over an ontology using an OWL reasoner\n",
    "- Check consistency\n",
    "- Find inconsistent classes\n",
    "\n",
    "## Ontology libraries \n",
    "\n",
    "Candidate general(ish)-purpose ontology libraries in Python include:\n",
    "- [owlready2](https://bitbucket.org/jibalamy/owlready2/src): a module for *ontology-oriented programming* in Python 3, including an optimized RDF quadstore. [Paper](http://www.lesfleursdunormal.fr/static/_downloads/article_owlready_aim_2017.pdf)\n",
    "- [ontobio](https://github.com/biolink/ontobio): python library for working with ontologies and ontology associations\n",
    "- [pronto](https://github.com/althonos/pronto): A Python frontend to OBO ontologies.\n",
    "\n",
    "New, experimental:\n",
    "- [pyhornedowl](https://github.com/jannahastings/py-horned-owl/): An experimental port of [horned-owl](https://github.com/phillord/horned-owl) into Python. \n",
    "\n",
    "Additional libraries not yet included: \n",
    "- [pyobo](https://github.com/pyobo/pyobo): Another Python frontend to OBO ontologies. Good with identifiers and xrefs. "
   ]
  },
  {
   "cell_type": "markdown",
   "metadata": {},
   "source": [
    "\n",
    "# OWLReady2\n",
    "\n",
    "## Load ontology from file"
   ]
  },
  {
   "cell_type": "code",
   "execution_count": 3,
   "metadata": {},
   "outputs": [
    {
     "name": "stdout",
     "output_type": "stream",
     "text": [
      "addictovocab.org.ADDICTO_0000101 ['7-day point prevalence tobacco smoking abstinence'] http://addictovocab.org/ADDICTO_0000101\n",
      "addictovocab.org.ADDICTO_0000697 ['point prevalence tobacco smoking abstinence'] http://addictovocab.org/ADDICTO_0000697\n",
      "addictovocab.org.ADDICTO_0000104 ['abstinence'] http://addictovocab.org/ADDICTO_0000104\n",
      "ontology.BCIO_042000 ['Human behaviour'] http://humanbehaviourchange.org/ontology/BCIO_042000\n",
      "addictovocab.org.ADDICTO_0000105 ['abstinence rate'] http://addictovocab.org/ADDICTO_0000105\n",
      "addictovocab.org.ADDICTO_0000525 ['population attribute'] http://addictovocab.org/ADDICTO_0000525\n",
      "addictovocab.org.ADDICTO_0000109 ['addictiveness of a behaviour'] http://addictovocab.org/ADDICTO_0000109\n",
      "addictovocab.org.ADDICTO_0000719 ['behaviour attribute'] http://addictovocab.org/ADDICTO_0000719\n",
      "addictovocab.org.ADDICTO_0000110 ['adolescent alcohol consumption'] http://addictovocab.org/ADDICTO_0000110\n",
      "addictovocab.org.ADDICTO_0000523 ['adolescent'] http://addictovocab.org/ADDICTO_0000523\n"
     ]
    }
   ],
   "source": [
    "from owlready2 import *\n",
    "\n",
    "#onto = get_ontology(\"addicto.owl\").load()\n",
    "onto = get_ontology(\"addicto-merged.owl\").load()\n",
    "\n",
    "# List all classes found in the ontology\n",
    "import itertools\n",
    "for c in itertools.islice(onto.classes(),10): \n",
    "    print(c,c.label,c.iri)\n"
   ]
  },
  {
   "cell_type": "markdown",
   "metadata": {},
   "source": [
    "## Search for entries in the ontology\n",
    "\n",
    "### Label searches\n"
   ]
  },
  {
   "cell_type": "code",
   "execution_count": 6,
   "metadata": {},
   "outputs": [
    {
     "name": "stdout",
     "output_type": "stream",
     "text": [
      "1: []\n",
      "2: [['daily cigarette smoker', 'daily cigarette smoker'], ['daily tobacco smoker', 'daily tobacco smoker'], ['tobacco smoker', 'tobacco smoker'], ['non-daily tobacco smoker', 'non-daily tobacco smoker'], ['predominant smoker', 'predominant smoker'], ['ex-smoker', 'ex-smoker'], ['chain smoker', 'chain smoker'], ['ever tobacco smoker', 'ever tobacco smoker'], ['ex e-cigarette user current smoker', 'ex e-cigarette user current smoker'], ['former regular smoker', 'former regular smoker'], ['former tobacco smoker', 'former tobacco smoker'], ['never smoker', 'never smoker'], ['not a current smoker', 'not a current smoker'], ['pregnant smoker', 'pregnant smoker'], ['recent former regular smoker', 'recent former regular smoker'], ['recent smoker', 'recent smoker'], ['cannabis smoker', 'cannabis smoker'], ['daily cannabis smoker', 'daily cannabis smoker'], ['daily non-treatment-seeking cigarette smoker', 'daily non-treatment-seeking cigarette smoker'], ['exclusive cannabis smoker', 'exclusive cannabis smoker'], ['long-term ex smoker', 'long-term ex smoker'], ['recent ex-smoker', 'recent ex-smoker'], ['dual smokeless-containing product user and tobacco smoker', 'dual smokeless-containing product user and tobacco smoker'], ['waterpipe smoker', 'waterpipe smoker'], ['mulled cigarette smoker', 'mulled cigarette smoker']]\n"
     ]
    }
   ],
   "source": [
    "# Find entries in the ontology by a partial match on label or synonym\n",
    "\n",
    "search_term = 'smoker'\n",
    "\n",
    "# Nothing matches just the label\n",
    "results = onto.search(label = search_term)\n",
    "print(\"1:\",results)\n",
    "\n",
    "# But we can use wildcards, that's cool\n",
    "results = onto.search(label = '*'+search_term)\n",
    "print(\"2:\",[r.label for r in results])\n"
   ]
  },
  {
   "cell_type": "markdown",
   "metadata": {},
   "source": [
    "### Annotation metadata searches\n",
    "\n",
    "The documentation for OWLReady says that \"The following annotations are available by default: comment, isDefinedBy, label, seeAlso, backwardCompatibleWith, deprecated, incompatibleWith, priorVersion, versionInfo.\"\n",
    "\n",
    "It is not exactly clear how to retrieve synonyms or definitions (those are the annotations I use the most often). "
   ]
  },
  {
   "cell_type": "code",
   "execution_count": 8,
   "metadata": {},
   "outputs": [
    {
     "name": "stdout",
     "output_type": "stream",
     "text": [
      "1:  [[], [], ['This refers to a current time frame for participation. This should be specified unless it is obvious from context.', 'This refers to a current time frame for participation. This should be specified unless it is obvious from context.'], [], [], [], [], ['Ever should be further defined and frequency of past use should be indicated where possible.', 'Ever should be further defined and frequency of past use should be indicated where possible.'], ['The time period and frequency of past e-cigarette use should also be defined,', 'The time period and frequency of past e-cigarette use should also be defined,'], [], [], ['Never smoker is often defined as a person who has smoked fewer than 20 cigarettes  in their lifetime.', 'Never smoker is often defined as a person who has smoked fewer than 20 cigarettes  in their lifetime.'], ['The term nono-smoker is included as a synonym but is discouraged from use. Not currently smoking also needs to be further defined by providign details of time since last smoking and frequency of smoking.', 'The term nono-smoker is included as a synonym but is discouraged from use. Not currently smoking also needs to be further defined by providign details of time since last smoking and frequency of smoking.'], [], ['This is a fuzzy because the time frame is not universally agreed and if this term is used the reference to recent must be defined.', 'This is a fuzzy because the time frame is not universally agreed and if this term is used the reference to recent must be defined.'], ['The time period of recent must be defined.', 'The time period of recent must be defined.'], ['This defintion deliberately seperates cannabis smoking from the use of cannabis by edibles.', 'This defintion deliberately seperates cannabis smoking from the use of cannabis by edibles.'], [], [], ['Intended defintion for those who smoke their cannabis only and do not use cannabis in any other form.', 'Intended defintion for those who smoke their cannabis only and do not use cannabis in any other form.'], ['This is fuzzy set because the time frame is approximate and needs to be defined in published work.', 'This is fuzzy set because the time frame is approximate and needs to be defined in published work.'], ['This is a fuzzy because the time frame is not universally agreed and if this term is used the reference to recent must be defined.', 'This is a fuzzy because the time frame is not universally agreed and if this term is used the reference to recent must be defined.'], ['The type of smokeless product that is being used should be defined. Also, the frequency of dual use should be reported.', 'The type of smokeless product that is being used should be defined. Also, the frequency of dual use should be reported.'], [], []]\n",
      "2:  {'bottomObjectProperty': owl.bottomObjectProperty, 'bottomDataProperty': owl.bottomDataProperty, 'comment': rdf-schema.comment, 'label': rdf-schema.label, 'backwardCompatibleWith': owl.backwardCompatibleWith, 'deprecated': owl.deprecated, 'incompatibleWith': owl.incompatibleWith, 'isDefinedBy': rdf-schema.isDefinedBy, 'priorVersion': owl.priorVersion, 'seeAlso': rdf-schema.seeAlso, 'versionInfo': owl.versionInfo, 'body': swrl.body, 'head': swrl.head, 'class_predicate': swrl.classPredicate, 'property_predicate': swrl.propertyPredicate, 'arguments': swrl.arguments, 'builtin': swrl.builtin, 'topObjectProperty': owl.topObjectProperty, 'RO_0000057': obo.RO_0000057, 'BFO_0000051': obo.BFO_0000051, 'RO_0000053': obo.RO_0000053, 'RO_0000087': obo.RO_0000087, 'RO_0001000': obo.RO_0001000, 'IAO_0000136': obo.IAO_0000136, 'BFO_0000054': obo.BFO_0000054, 'BFO_0000055': obo.BFO_0000055, 'RO_0000052': obo.RO_0000052, 'RO_0000056': obo.RO_0000056, 'RO_0000091': obo.RO_0000091, 'RO_0001019': obo.RO_0001019, 'RO_0001025': obo.RO_0001025, 'RO_0002234': obo.RO_0002234, 'RO_0002328': obo.RO_0002328, 'RO_0002353': obo.RO_0002353, 'IAO_0000115': obo.IAO_0000115, 'IAO_0000118': obo.IAO_0000118, 'IAO_0000232': obo.IAO_0000232, 'IAO_0000112': obo.IAO_0000112, 'IAO_0000119': obo.IAO_0000119, 'BFO_0000179': obo.BFO_0000179, 'IAO_0000111': obo.IAO_0000111, 'BFO_0000180': obo.BFO_0000180, 'IAO_0000114': obo.IAO_0000114, 'IAO_0000117': obo.IAO_0000117, 'IAO_0000116': obo.IAO_0000116, 'hasExactSynonym': oboInOwl.hasExactSynonym, 'hasDbXref': oboInOwl.hasDbXref, 'hasOBONamespace': oboInOwl.hasOBONamespace, 'id': oboInOwl.id, 'shorthand': oboInOwl.shorthand, 'IAO_0000412': obo.IAO_0000412, 'IAO_0000589': obo.IAO_0000589, 'IAO_0000600': obo.IAO_0000600, 'IAO_0000601': obo.IAO_0000601, 'IAO_0000602': obo.IAO_0000602, 'IAO_0010000': obo.IAO_0010000, 'MFOEM_000010': obo.MFOEM_000010, 'OBI_9991118': obo.OBI_9991118, 'RO_0001900': obo.RO_0001900, 'page': 0.1.page, 'UBPROP_0000001': obo.UBPROP_0000001, 'UBPROP_0000012': obo.UBPROP_0000012, 'APOLLO_SV_0000040': apollo_sv.APOLLO_SV_0000040, 'charge': chebi.charge, 'formula': chebi.formula, 'inchi': chebi.inchi, 'inchikey': chebi.inchikey, 'mass': chebi.mass, 'monoisotopicmass': chebi.monoisotopicmass, 'smiles': chebi.smiles, 'creator': 1.1.creator, 'date': 1.1.date, 'source': oboInOwl.source, 'type': 1.1.type, 'created_by': oboInOwl.created_by, 'creation_date': oboInOwl.creation_date, 'external_ontology': oboInOwl.external_ontology, 'hasAlternativeId': oboInOwl.hasAlternativeId, 'hasBroadSynonym': oboInOwl.hasBroadSynonym, 'hasNarrowSynonym': oboInOwl.hasNarrowSynonym, 'hasRelatedSynonym': oboInOwl.hasRelatedSynonym, 'hasSynonymType': oboInOwl.hasSynonymType, 'inSubset': oboInOwl.inSubset, 'is_metadata_tag': oboInOwl.is_metadata_tag}\n",
      "{'namespace': get_ontology(\"http://addictovocab.org/addicto.owl/\").get_namespace(\"http://addictovocab.org/\"), 'storid': 575, '_name': 'ADDICTO_0000368', 'is_a': [addictovocab.org.ADDICTO_0000370, addictovocab.org.ADDICTO_0000370], '_equivalent_to': None, '__module__': 'owlready2.entity', '__doc__': None, '__label': ['daily cigarette smoker', 'daily cigarette smoker'], '__comment': []}\n"
     ]
    }
   ],
   "source": [
    "# We can see if there are any comments for our label search results\n",
    "print(\"1: \", [r.comment for r in results])\n",
    "\n",
    "# There are no built in definition or synonym annotations -- i.e. you can't just ask for these:  \n",
    "#print(\"2:\",[r.definition for r in results])\n",
    "#print(\"3:\",[r.synonyms for r in results])\n",
    "\n",
    "# What attributes are there? \n",
    "# Not documented as far as I could tell, but I found them by reading the source code of the owlready implementation: \n",
    "print(\"2: \",results[0].namespace.world._props)\n",
    "\n",
    "print(\"3: \", results[0].__dict__)"
   ]
  },
  {
   "cell_type": "markdown",
   "metadata": {},
   "source": [
    "<span style=\"color: red;\">Conclusion: It does not seem to be possible to get the synonyms or definitions from the ontology. Or did I miss something? </span>"
   ]
  },
  {
   "cell_type": "markdown",
   "metadata": {},
   "source": [
    "### Hierarchical searches: find all ancestors and descendents\n"
   ]
  },
  {
   "cell_type": "code",
   "execution_count": 10,
   "metadata": {},
   "outputs": [
    {
     "name": "stdout",
     "output_type": "stream",
     "text": [
      "addictovocab.org.ADDICTO_0000405 ['tobacco smoker', 'tobacco smoker']\n"
     ]
    }
   ],
   "source": [
    "[smoker] = onto.search(label = 'tobacco smoker')\n",
    "\n",
    "print(smoker, smoker.label)"
   ]
  },
  {
   "cell_type": "markdown",
   "metadata": {},
   "source": [
    "Why is the label duplicated?\n",
    "\n",
    "\n",
    "Getting the ancestors and descendents is not prominent in the documentation (??) but I can see in the code. \n"
   ]
  },
  {
   "cell_type": "code",
   "execution_count": 11,
   "metadata": {},
   "outputs": [
    {
     "name": "stdout",
     "output_type": "stream",
     "text": [
      "Ancestors: {obo.BFO_0000004, obo.OGMS_0000087, addictovocab.org.ADDICTO_0000849, addictovocab.org.ADDICTO_0000405, obo.BFO_0000001, obo.BFO_0000002, obo.MF_0000016, owl.Thing, obo.BFO_0000040}\n",
      "Descendants: {addictovocab.org.ADDICTO_0000773, addictovocab.org.ADDICTO_0000808, addictovocab.org.ADDICTO_0000772, addictovocab.org.ADDICTO_0000788, addictovocab.org.ADDICTO_0000368, addictovocab.org.ADDICTO_0000370, addictovocab.org.ADDICTO_0000386, addictovocab.org.ADDICTO_0000770, addictovocab.org.ADDICTO_0000405, addictovocab.org.ADDICTO_0000786, addictovocab.org.ADDICTO_0000802}\n"
     ]
    }
   ],
   "source": [
    "print(\"Ancestors:\",smoker.ancestors())\n",
    "print(\"Descendants:\",smoker.descendants())"
   ]
  },
  {
   "cell_type": "markdown",
   "metadata": {},
   "source": [
    "## Modifying the ontology\n",
    "\n",
    "Scenario: I wish to update the label of a class with a user-specified ID to a value that a user has supplied. The ID and the new label are in strings. \n"
   ]
  },
  {
   "cell_type": "code",
   "execution_count": 13,
   "metadata": {
    "scrolled": true
   },
   "outputs": [
    {
     "name": "stdout",
     "output_type": "stream",
     "text": [
      "addictovocab.org.ADDICTO_0000405 ['Testing']\n",
      "addictovocab.org.ADDICTO_0000405 ['Testing']\n",
      "addicto-merged.RegularSmoker\n"
     ]
    }
   ],
   "source": [
    "new_id = 'ADDICTO_0000405'\n",
    "new_label = 'Testing'\n",
    "\n",
    "# Get the class firstly\n",
    "\n",
    "#[r] = onto.query(iri=new_id) # Nope - returns None\n",
    "#print(r)\n",
    "#[r] = onto.search(iri=new_id) # Nope - returns Too few values to unpack, expected 1 got 0\n",
    "#print(r)\n",
    "\n",
    "[r] = onto.search(iri='*'+new_id) \n",
    "print(r, r.label)\n",
    "\n",
    "r.label = new_label\n",
    "\n",
    "print(r, r.label)\n",
    "\n",
    "# Ok. That seems to work. \n",
    "\n",
    "# To create a class\n",
    "\n",
    "with onto:\n",
    "    class RegularSmoker(Thing):\n",
    "        pass\n",
    "\n",
    "# To create a class *dynamically* need reflection: \n",
    "\n",
    "import types\n",
    "\n",
    "with onto:\n",
    "    #NewClass = types.new_class(\"NewClassName\", (SuperClass,))\n",
    "    NewClass = types.new_class(\"RegularSmoker\", (r,))\n",
    "\n",
    "print(NewClass)\n"
   ]
  },
  {
   "cell_type": "markdown",
   "metadata": {},
   "source": [
    "To add dynamically a new node or a new *type* of attribute seems to require reflection? \n"
   ]
  },
  {
   "cell_type": "markdown",
   "metadata": {},
   "source": [
    "## Reasoning with the ontology\n",
    "\n",
    "Owlready2 links to HermiT. Let's see if that can be made to work here. \n"
   ]
  },
  {
   "cell_type": "code",
   "execution_count": 14,
   "metadata": {},
   "outputs": [
    {
     "name": "stderr",
     "output_type": "stream",
     "text": [
      "* Owlready2 * Running HermiT...\n",
      "    java -Xmx2000M -cp /Library/Frameworks/Python.framework/Versions/3.8/lib/python3.8/site-packages/owlready2/hermit:/Library/Frameworks/Python.framework/Versions/3.8/lib/python3.8/site-packages/owlready2/hermit/HermiT.jar org.semanticweb.HermiT.cli.CommandLine -c -O -D -I file:////var/folders/wr/4fyz19y54_3_8gp5lh28w05xl0jvvw/T/tmprqxqhwpo\n"
     ]
    },
    {
     "ename": "OwlReadyJavaError",
     "evalue": "Java error message is:\nException in thread \"main\" org.semanticweb.owlapi.model.OWLRuntimeException: org.coode.owlapi.rdfxml.parser.TranslatedUnloadedImportException: Could not load imported ontology: <http://addictovocab.org/addicto_external.owl> Cause: Problem parsing http://addictovocab.org/addicto_external.owl\nCould not parse ontology.  Either a suitable parser could not be found, or parsing failed.  See parser logs below for explanation.\nThe following parsers were tried:\n1) RDFXMLParser\n2) OWLXMLParser\n3) OWLFunctionalSyntaxOWLParser\n4) TurtleOntologyParser\n5) OWLOBOParser\n6) KRSS2OWLParser\n7) ManchesterOWLSyntaxOntologyParser\n\n\nDetailed logs:\n--------------------------------------------------------------------------------\nParser: RDFXMLParser\norg.xml.sax.SAXParseException; systemId: http://addictovocab.org/addicto_external.owl; lineNumber: 1; columnNumber: 1; Content is not allowed in prolog.\n\n--------------------------------------------------------------------------------\nParser: OWLXMLParser\norg.xml.sax.SAXParseException; systemId: http://addictovocab.org/addicto_external.owl; lineNumber: 1; columnNumber: 1; Content is not allowed in prolog.\n\n--------------------------------------------------------------------------------\nParser: OWLFunctionalSyntaxOWLParser\nEncountered \" <PN_LOCAL> \"Redirecting \"\" at line 1, column 1.\nWas expecting:\n    \"Ontology\" ...\n     (Line 0)\n\n--------------------------------------------------------------------------------\nParser: TurtleOntologyParser\nuk.ac.manchester.cs.owl.owlapi.turtle.parser.ParseException: Encountered \"\" at line 1, column 1.\nWas expecting one of:\n    \n\n--------------------------------------------------------------------------------\nParser: OWLOBOParser\norg.coode.owlapi.obo.parser.ParseException: Encountered \"<EOF>\" at line 1, column 67.\nWas expecting one of:\n    \"[\" ...\n    <TAG_NAME> ...\n    <QUOTED_STRING> ...\n    <STRING> ...\n    <TAG_VALUE_WS> ...\n    <COMMENT> ...\n     (Line 1)\n\n--------------------------------------------------------------------------------\nParser: KRSS2OWLParser\nde.uulm.ecs.ai.owlapi.krssparser.ParseException: Encountered \" <NAME> \"Redirecting \"\" at line 1, column 1.\nWas expecting:\n    <EOF> \n    \n\n--------------------------------------------------------------------------------\nParser: ManchesterOWLSyntaxOntologyParser\nEncountered 'Redirecting to https://addictovocab.org/addicto_external.owl (308)' at line 1 column 1.  Expected either 'Ontology:' or 'Prefix:' (Line 1)\n\n\norg.semanticweb.owlapi.model.UnloadableImportException: Could not load imported ontology: <http://addictovocab.org/addicto_external.owl> Cause: Problem parsing http://addictovocab.org/addicto_external.owl\nCould not parse ontology.  Either a suitable parser could not be found, or parsing failed.  See parser logs below for explanation.\nThe following parsers were tried:\n1) RDFXMLParser\n2) OWLXMLParser\n3) OWLFunctionalSyntaxOWLParser\n4) TurtleOntologyParser\n5) OWLOBOParser\n6) KRSS2OWLParser\n7) ManchesterOWLSyntaxOntologyParser\n\n\nDetailed logs:\n--------------------------------------------------------------------------------\nParser: RDFXMLParser\norg.xml.sax.SAXParseException; systemId: http://addictovocab.org/addicto_external.owl; lineNumber: 1; columnNumber: 1; Content is not allowed in prolog.\n\n--------------------------------------------------------------------------------\nParser: OWLXMLParser\norg.xml.sax.SAXParseException; systemId: http://addictovocab.org/addicto_external.owl; lineNumber: 1; columnNumber: 1; Content is not allowed in prolog.\n\n--------------------------------------------------------------------------------\nParser: OWLFunctionalSyntaxOWLParser\nEncountered \" <PN_LOCAL> \"Redirecting \"\" at line 1, column 1.\nWas expecting:\n    \"Ontology\" ...\n     (Line 0)\n\n--------------------------------------------------------------------------------\nParser: TurtleOntologyParser\nuk.ac.manchester.cs.owl.owlapi.turtle.parser.ParseException: Encountered \"\" at line 1, column 1.\nWas expecting one of:\n    \n\n--------------------------------------------------------------------------------\nParser: OWLOBOParser\norg.coode.owlapi.obo.parser.ParseException: Encountered \"<EOF>\" at line 1, column 67.\nWas expecting one of:\n    \"[\" ...\n    <TAG_NAME> ...\n    <QUOTED_STRING> ...\n    <STRING> ...\n    <TAG_VALUE_WS> ...\n    <COMMENT> ...\n     (Line 1)\n\n--------------------------------------------------------------------------------\nParser: KRSS2OWLParser\nde.uulm.ecs.ai.owlapi.krssparser.ParseException: Encountered \" <NAME> \"Redirecting \"\" at line 1, column 1.\nWas expecting:\n    <EOF> \n    \n\n--------------------------------------------------------------------------------\nParser: ManchesterOWLSyntaxOntologyParser\nEncountered 'Redirecting to https://addictovocab.org/addicto_external.owl (308)' at line 1 column 1.  Expected either 'Ontology:' or 'Prefix:' (Line 1)\n\n\n\tat uk.ac.manchester.cs.owl.owlapi.turtle.parser.OWLRDFConsumerAdapter.handleTriple(OWLRDFConsumerAdapter.java:92)\n\tat uk.ac.manchester.cs.owl.owlapi.turtle.parser.TurtleParser.parseObject(TurtleParser.java:335)\n\tat uk.ac.manchester.cs.owl.owlapi.turtle.parser.TurtleParser.parseObjectList(TurtleParser.java:310)\n\tat uk.ac.manchester.cs.owl.owlapi.turtle.parser.TurtleParser.parsePredicateObjectList(TurtleParser.java:257)\n\tat uk.ac.manchester.cs.owl.owlapi.turtle.parser.TurtleParser.parseTriples(TurtleParser.java:185)\n\tat uk.ac.manchester.cs.owl.owlapi.turtle.parser.TurtleParser.parseStatement(TurtleParser.java:178)\n\tat uk.ac.manchester.cs.owl.owlapi.turtle.parser.TurtleParser.parseDocument(TurtleParser.java:130)\n\tat uk.ac.manchester.cs.owl.owlapi.turtle.parser.TurtleOntologyParser.parse(TurtleOntologyParser.java:100)\n\tat uk.ac.manchester.cs.owl.owlapi.ParsableOWLOntologyFactory.loadOWLOntology(ParsableOWLOntologyFactory.java:206)\n\tat uk.ac.manchester.cs.owl.owlapi.OWLOntologyManagerImpl.loadOntology(OWLOntologyManagerImpl.java:880)\n\tat uk.ac.manchester.cs.owl.owlapi.OWLOntologyManagerImpl.loadOntology(OWLOntologyManagerImpl.java:800)\n\tat uk.ac.manchester.cs.owl.owlapi.OWLOntologyManagerImpl.loadOntology(OWLOntologyManagerImpl.java:758)\n\tat org.semanticweb.HermiT.cli.CommandLine.main(CommandLine.java:798)\nCaused by: org.coode.owlapi.rdfxml.parser.TranslatedUnloadedImportException: Could not load imported ontology: <http://addictovocab.org/addicto_external.owl> Cause: Problem parsing http://addictovocab.org/addicto_external.owl\nCould not parse ontology.  Either a suitable parser could not be found, or parsing failed.  See parser logs below for explanation.\nThe following parsers were tried:\n1) RDFXMLParser\n2) OWLXMLParser\n3) OWLFunctionalSyntaxOWLParser\n4) TurtleOntologyParser\n5) OWLOBOParser\n6) KRSS2OWLParser\n7) ManchesterOWLSyntaxOntologyParser\n\n\nDetailed logs:\n--------------------------------------------------------------------------------\nParser: RDFXMLParser\norg.xml.sax.SAXParseException; systemId: http://addictovocab.org/addicto_external.owl; lineNumber: 1; columnNumber: 1; Content is not allowed in prolog.\n\n--------------------------------------------------------------------------------\nParser: OWLXMLParser\norg.xml.sax.SAXParseException; systemId: http://addictovocab.org/addicto_external.owl; lineNumber: 1; columnNumber: 1; Content is not allowed in prolog.\n\n--------------------------------------------------------------------------------\nParser: OWLFunctionalSyntaxOWLParser\nEncountered \" <PN_LOCAL> \"Redirecting \"\" at line 1, column 1.\nWas expecting:\n    \"Ontology\" ...\n     (Line 0)\n\n--------------------------------------------------------------------------------\nParser: TurtleOntologyParser\nuk.ac.manchester.cs.owl.owlapi.turtle.parser.ParseException: Encountered \"\" at line 1, column 1.\nWas expecting one of:\n    \n\n--------------------------------------------------------------------------------\nParser: OWLOBOParser\norg.coode.owlapi.obo.parser.ParseException: Encountered \"<EOF>\" at line 1, column 67.\nWas expecting one of:\n    \"[\" ...\n    <TAG_NAME> ...\n    <QUOTED_STRING> ...\n    <STRING> ...\n    <TAG_VALUE_WS> ...\n    <COMMENT> ...\n     (Line 1)\n\n--------------------------------------------------------------------------------\nParser: KRSS2OWLParser\nde.uulm.ecs.ai.owlapi.krssparser.ParseException: Encountered \" <NAME> \"Redirecting \"\" at line 1, column 1.\nWas expecting:\n    <EOF> \n    \n\n--------------------------------------------------------------------------------\nParser: ManchesterOWLSyntaxOntologyParser\nEncountered 'Redirecting to https://addictovocab.org/addicto_external.owl (308)' at line 1 column 1.  Expected either 'Ontology:' or 'Prefix:' (Line 1)\n\n\norg.semanticweb.owlapi.model.UnloadableImportException: Could not load imported ontology: <http://addictovocab.org/addicto_external.owl> Cause: Problem parsing http://addictovocab.org/addicto_external.owl\nCould not parse ontology.  Either a suitable parser could not be found, or parsing failed.  See parser logs below for explanation.\nThe following parsers were tried:\n1) RDFXMLParser\n2) OWLXMLParser\n3) OWLFunctionalSyntaxOWLParser\n4) TurtleOntologyParser\n5) OWLOBOParser\n6) KRSS2OWLParser\n7) ManchesterOWLSyntaxOntologyParser\n\n\nDetailed logs:\n--------------------------------------------------------------------------------\nParser: RDFXMLParser\norg.xml.sax.SAXParseException; systemId: http://addictovocab.org/addicto_external.owl; lineNumber: 1; columnNumber: 1; Content is not allowed in prolog.\n\n--------------------------------------------------------------------------------\nParser: OWLXMLParser\norg.xml.sax.SAXParseException; systemId: http://addictovocab.org/addicto_external.owl; lineNumber: 1; columnNumber: 1; Content is not allowed in prolog.\n\n--------------------------------------------------------------------------------\nParser: OWLFunctionalSyntaxOWLParser\nEncountered \" <PN_LOCAL> \"Redirecting \"\" at line 1, column 1.\nWas expecting:\n    \"Ontology\" ...\n     (Line 0)\n\n--------------------------------------------------------------------------------\nParser: TurtleOntologyParser\nuk.ac.manchester.cs.owl.owlapi.turtle.parser.ParseException: Encountered \"\" at line 1, column 1.\nWas expecting one of:\n    \n\n--------------------------------------------------------------------------------\nParser: OWLOBOParser\norg.coode.owlapi.obo.parser.ParseException: Encountered \"<EOF>\" at line 1, column 67.\nWas expecting one of:\n    \"[\" ...\n    <TAG_NAME> ...\n    <QUOTED_STRING> ...\n    <STRING> ...\n    <TAG_VALUE_WS> ...\n    <COMMENT> ...\n     (Line 1)\n\n--------------------------------------------------------------------------------\nParser: KRSS2OWLParser\nde.uulm.ecs.ai.owlapi.krssparser.ParseException: Encountered \" <NAME> \"Redirecting \"\" at line 1, column 1.\nWas expecting:\n    <EOF> \n    \n\n--------------------------------------------------------------------------------\nParser: ManchesterOWLSyntaxOntologyParser\nEncountered 'Redirecting to https://addictovocab.org/addicto_external.owl (308)' at line 1 column 1.  Expected either 'Ontology:' or 'Prefix:' (Line 1)\n\n\n\tat org.coode.owlapi.rdfxml.parser.OWLRDFConsumer.statementWithResourceValue(OWLRDFConsumer.java:1704)\n\tat uk.ac.manchester.cs.owl.owlapi.turtle.parser.OWLRDFConsumerAdapter.handleTriple(OWLRDFConsumerAdapter.java:89)\n\t... 12 more\nCaused by: org.semanticweb.owlapi.model.UnloadableImportException: Could not load imported ontology: <http://addictovocab.org/addicto_external.owl> Cause: Problem parsing http://addictovocab.org/addicto_external.owl\nCould not parse ontology.  Either a suitable parser could not be found, or parsing failed.  See parser logs below for explanation.\nThe following parsers were tried:\n1) RDFXMLParser\n2) OWLXMLParser\n3) OWLFunctionalSyntaxOWLParser\n4) TurtleOntologyParser\n5) OWLOBOParser\n6) KRSS2OWLParser\n7) ManchesterOWLSyntaxOntologyParser\n\n\nDetailed logs:\n--------------------------------------------------------------------------------\nParser: RDFXMLParser\norg.xml.sax.SAXParseException; systemId: http://addictovocab.org/addicto_external.owl; lineNumber: 1; columnNumber: 1; Content is not allowed in prolog.\n\n--------------------------------------------------------------------------------\nParser: OWLXMLParser\norg.xml.sax.SAXParseException; systemId: http://addictovocab.org/addicto_external.owl; lineNumber: 1; columnNumber: 1; Content is not allowed in prolog.\n\n--------------------------------------------------------------------------------\nParser: OWLFunctionalSyntaxOWLParser\nEncountered \" <PN_LOCAL> \"Redirecting \"\" at line 1, column 1.\nWas expecting:\n    \"Ontology\" ...\n     (Line 0)\n\n--------------------------------------------------------------------------------\nParser: TurtleOntologyParser\nuk.ac.manchester.cs.owl.owlapi.turtle.parser.ParseException: Encountered \"\" at line 1, column 1.\nWas expecting one of:\n    \n\n--------------------------------------------------------------------------------\nParser: OWLOBOParser\norg.coode.owlapi.obo.parser.ParseException: Encountered \"<EOF>\" at line 1, column 67.\nWas expecting one of:\n    \"[\" ...\n    <TAG_NAME> ...\n    <QUOTED_STRING> ...\n    <STRING> ...\n    <TAG_VALUE_WS> ...\n    <COMMENT> ...\n     (Line 1)\n\n--------------------------------------------------------------------------------\nParser: KRSS2OWLParser\nde.uulm.ecs.ai.owlapi.krssparser.ParseException: Encountered \" <NAME> \"Redirecting \"\" at line 1, column 1.\nWas expecting:\n    <EOF> \n    \n\n--------------------------------------------------------------------------------\nParser: ManchesterOWLSyntaxOntologyParser\nEncountered 'Redirecting to https://addictovocab.org/addicto_external.owl (308)' at line 1 column 1.  Expected either 'Ontology:' or 'Prefix:' (Line 1)\n\n\n\tat uk.ac.manchester.cs.owl.owlapi.OWLOntologyManagerImpl.makeLoadImportRequest(OWLOntologyManagerImpl.java:1315)\n\tat org.coode.owlapi.rdfxml.parser.TPImportsHandler.handleTriple(TPImportsHandler.java:89)\n\tat org.coode.owlapi.rdfxml.parser.OWLRDFConsumer.handleStreaming(OWLRDFConsumer.java:1742)\n\tat org.coode.owlapi.rdfxml.parser.OWLRDFConsumer.statementWithResourceValue(OWLRDFConsumer.java:1701)\n\t... 13 more\nCaused by: org.semanticweb.owlapi.io.UnparsableOntologyException: Problem parsing http://addictovocab.org/addicto_external.owl\nCould not parse ontology.  Either a suitable parser could not be found, or parsing failed.  See parser logs below for explanation.\nThe following parsers were tried:\n1) RDFXMLParser\n2) OWLXMLParser\n3) OWLFunctionalSyntaxOWLParser\n4) TurtleOntologyParser\n5) OWLOBOParser\n6) KRSS2OWLParser\n7) ManchesterOWLSyntaxOntologyParser\n\n\nDetailed logs:\n--------------------------------------------------------------------------------\nParser: RDFXMLParser\norg.xml.sax.SAXParseException; systemId: http://addictovocab.org/addicto_external.owl; lineNumber: 1; columnNumber: 1; Content is not allowed in prolog.\n\n--------------------------------------------------------------------------------\nParser: OWLXMLParser\norg.xml.sax.SAXParseException; systemId: http://addictovocab.org/addicto_external.owl; lineNumber: 1; columnNumber: 1; Content is not allowed in prolog.\n\n--------------------------------------------------------------------------------\nParser: OWLFunctionalSyntaxOWLParser\nEncountered \" <PN_LOCAL> \"Redirecting \"\" at line 1, column 1.\nWas expecting:\n    \"Ontology\" ...\n     (Line 0)\n\n--------------------------------------------------------------------------------\nParser: TurtleOntologyParser\nuk.ac.manchester.cs.owl.owlapi.turtle.parser.ParseException: Encountered \"\" at line 1, column 1.\nWas expecting one of:\n    \n\n--------------------------------------------------------------------------------\nParser: OWLOBOParser\norg.coode.owlapi.obo.parser.ParseException: Encountered \"<EOF>\" at line 1, column 67.\nWas expecting one of:\n    \"[\" ...\n    <TAG_NAME> ...\n    <QUOTED_STRING> ...\n    <STRING> ...\n    <TAG_VALUE_WS> ...\n    <COMMENT> ...\n     (Line 1)\n\n--------------------------------------------------------------------------------\nParser: KRSS2OWLParser\nde.uulm.ecs.ai.owlapi.krssparser.ParseException: Encountered \" <NAME> \"Redirecting \"\" at line 1, column 1.\nWas expecting:\n    <EOF> \n    \n\n--------------------------------------------------------------------------------\nParser: ManchesterOWLSyntaxOntologyParser\nEncountered 'Redirecting to https://addictovocab.org/addicto_external.owl (308)' at line 1 column 1.  Expected either 'Ontology:' or 'Prefix:' (Line 1)\n\n\n\tat uk.ac.manchester.cs.owl.owlapi.ParsableOWLOntologyFactory.loadOWLOntology(ParsableOWLOntologyFactory.java:236)\n\tat uk.ac.manchester.cs.owl.owlapi.OWLOntologyManagerImpl.loadOntology(OWLOntologyManagerImpl.java:880)\n\tat uk.ac.manchester.cs.owl.owlapi.OWLOntologyManagerImpl.loadOntology(OWLOntologyManagerImpl.java:800)\n\tat uk.ac.manchester.cs.owl.owlapi.OWLOntologyManagerImpl.loadImports(OWLOntologyManagerImpl.java:1278)\n\tat uk.ac.manchester.cs.owl.owlapi.OWLOntologyManagerImpl.makeLoadImportRequest(OWLOntologyManagerImpl.java:1309)\n\t... 16 more\n",
     "output_type": "error",
     "traceback": [
      "\u001b[0;31m---------------------------------------------------------------------------\u001b[0m",
      "\u001b[0;31mCalledProcessError\u001b[0m                        Traceback (most recent call last)",
      "\u001b[0;32m/Library/Frameworks/Python.framework/Versions/3.8/lib/python3.8/site-packages/owlready2/reasoning.py\u001b[0m in \u001b[0;36msync_reasoner_hermit\u001b[0;34m(x, infer_property_values, debug, keep_tmp_file)\u001b[0m\n\u001b[1;32m    135\u001b[0m     \u001b[0;32mtry\u001b[0m\u001b[0;34m:\u001b[0m\u001b[0;34m\u001b[0m\u001b[0;34m\u001b[0m\u001b[0m\n\u001b[0;32m--> 136\u001b[0;31m       \u001b[0moutput\u001b[0m \u001b[0;34m=\u001b[0m \u001b[0msubprocess\u001b[0m\u001b[0;34m.\u001b[0m\u001b[0mcheck_output\u001b[0m\u001b[0;34m(\u001b[0m\u001b[0mcommand\u001b[0m\u001b[0;34m,\u001b[0m \u001b[0mstderr\u001b[0m \u001b[0;34m=\u001b[0m \u001b[0msubprocess\u001b[0m\u001b[0;34m.\u001b[0m\u001b[0mSTDOUT\u001b[0m\u001b[0;34m)\u001b[0m\u001b[0;34m\u001b[0m\u001b[0;34m\u001b[0m\u001b[0m\n\u001b[0m\u001b[1;32m    137\u001b[0m     \u001b[0;32mexcept\u001b[0m \u001b[0msubprocess\u001b[0m\u001b[0;34m.\u001b[0m\u001b[0mCalledProcessError\u001b[0m \u001b[0;32mas\u001b[0m \u001b[0me\u001b[0m\u001b[0;34m:\u001b[0m\u001b[0;34m\u001b[0m\u001b[0;34m\u001b[0m\u001b[0m\n",
      "\u001b[0;32m/Library/Frameworks/Python.framework/Versions/3.8/lib/python3.8/subprocess.py\u001b[0m in \u001b[0;36mcheck_output\u001b[0;34m(timeout, *popenargs, **kwargs)\u001b[0m\n\u001b[1;32m    410\u001b[0m \u001b[0;34m\u001b[0m\u001b[0m\n\u001b[0;32m--> 411\u001b[0;31m     return run(*popenargs, stdout=PIPE, timeout=timeout, check=True,\n\u001b[0m\u001b[1;32m    412\u001b[0m                **kwargs).stdout\n",
      "\u001b[0;32m/Library/Frameworks/Python.framework/Versions/3.8/lib/python3.8/subprocess.py\u001b[0m in \u001b[0;36mrun\u001b[0;34m(input, capture_output, timeout, check, *popenargs, **kwargs)\u001b[0m\n\u001b[1;32m    511\u001b[0m         \u001b[0;32mif\u001b[0m \u001b[0mcheck\u001b[0m \u001b[0;32mand\u001b[0m \u001b[0mretcode\u001b[0m\u001b[0;34m:\u001b[0m\u001b[0;34m\u001b[0m\u001b[0;34m\u001b[0m\u001b[0m\n\u001b[0;32m--> 512\u001b[0;31m             raise CalledProcessError(retcode, process.args,\n\u001b[0m\u001b[1;32m    513\u001b[0m                                      output=stdout, stderr=stderr)\n",
      "\u001b[0;31mCalledProcessError\u001b[0m: Command '['java', '-Xmx2000M', '-cp', '/Library/Frameworks/Python.framework/Versions/3.8/lib/python3.8/site-packages/owlready2/hermit:/Library/Frameworks/Python.framework/Versions/3.8/lib/python3.8/site-packages/owlready2/hermit/HermiT.jar', 'org.semanticweb.HermiT.cli.CommandLine', '-c', '-O', '-D', '-I', 'file:////var/folders/wr/4fyz19y54_3_8gp5lh28w05xl0jvvw/T/tmprqxqhwpo']' returned non-zero exit status 1.",
      "\nDuring handling of the above exception, another exception occurred:\n",
      "\u001b[0;31mOwlReadyJavaError\u001b[0m                         Traceback (most recent call last)",
      "\u001b[0;32m<ipython-input-14-7d376876faad>\u001b[0m in \u001b[0;36m<module>\u001b[0;34m\u001b[0m\n\u001b[1;32m      1\u001b[0m \u001b[0;32mwith\u001b[0m \u001b[0monto\u001b[0m\u001b[0;34m:\u001b[0m\u001b[0;34m\u001b[0m\u001b[0;34m\u001b[0m\u001b[0m\n\u001b[0;32m----> 2\u001b[0;31m     \u001b[0msync_reasoner\u001b[0m\u001b[0;34m(\u001b[0m\u001b[0;34m)\u001b[0m\u001b[0;34m\u001b[0m\u001b[0;34m\u001b[0m\u001b[0m\n\u001b[0m",
      "\u001b[0;32m/Library/Frameworks/Python.framework/Versions/3.8/lib/python3.8/site-packages/owlready2/reasoning.py\u001b[0m in \u001b[0;36msync_reasoner_hermit\u001b[0;34m(x, infer_property_values, debug, keep_tmp_file)\u001b[0m\n\u001b[1;32m    139\u001b[0m         \u001b[0;32mraise\u001b[0m \u001b[0mOwlReadyInconsistentOntologyError\u001b[0m\u001b[0;34m(\u001b[0m\u001b[0;34m)\u001b[0m\u001b[0;34m\u001b[0m\u001b[0;34m\u001b[0m\u001b[0m\n\u001b[1;32m    140\u001b[0m       \u001b[0;32melse\u001b[0m\u001b[0;34m:\u001b[0m\u001b[0;34m\u001b[0m\u001b[0;34m\u001b[0m\u001b[0m\n\u001b[0;32m--> 141\u001b[0;31m         \u001b[0;32mraise\u001b[0m \u001b[0mOwlReadyJavaError\u001b[0m\u001b[0;34m(\u001b[0m\u001b[0;34m\"Java error message is:\\n%s\"\u001b[0m \u001b[0;34m%\u001b[0m \u001b[0;34m(\u001b[0m\u001b[0me\u001b[0m\u001b[0;34m.\u001b[0m\u001b[0mstderr\u001b[0m \u001b[0;32mor\u001b[0m \u001b[0me\u001b[0m\u001b[0;34m.\u001b[0m\u001b[0moutput\u001b[0m \u001b[0;32mor\u001b[0m \u001b[0;34mb\"\"\u001b[0m\u001b[0;34m)\u001b[0m\u001b[0;34m.\u001b[0m\u001b[0mdecode\u001b[0m\u001b[0;34m(\u001b[0m\u001b[0;34m\"utf8\"\u001b[0m\u001b[0;34m)\u001b[0m\u001b[0;34m)\u001b[0m\u001b[0;34m\u001b[0m\u001b[0;34m\u001b[0m\u001b[0m\n\u001b[0m\u001b[1;32m    142\u001b[0m \u001b[0;34m\u001b[0m\u001b[0m\n\u001b[1;32m    143\u001b[0m     \u001b[0moutput\u001b[0m \u001b[0;34m=\u001b[0m \u001b[0moutput\u001b[0m\u001b[0;34m.\u001b[0m\u001b[0mdecode\u001b[0m\u001b[0;34m(\u001b[0m\u001b[0;34m\"utf8\"\u001b[0m\u001b[0;34m)\u001b[0m\u001b[0;34m.\u001b[0m\u001b[0mreplace\u001b[0m\u001b[0;34m(\u001b[0m\u001b[0;34m\"\\r\"\u001b[0m\u001b[0;34m,\u001b[0m\u001b[0;34m\"\"\u001b[0m\u001b[0;34m)\u001b[0m\u001b[0;34m\u001b[0m\u001b[0;34m\u001b[0m\u001b[0m\n",
      "\u001b[0;31mOwlReadyJavaError\u001b[0m: Java error message is:\nException in thread \"main\" org.semanticweb.owlapi.model.OWLRuntimeException: org.coode.owlapi.rdfxml.parser.TranslatedUnloadedImportException: Could not load imported ontology: <http://addictovocab.org/addicto_external.owl> Cause: Problem parsing http://addictovocab.org/addicto_external.owl\nCould not parse ontology.  Either a suitable parser could not be found, or parsing failed.  See parser logs below for explanation.\nThe following parsers were tried:\n1) RDFXMLParser\n2) OWLXMLParser\n3) OWLFunctionalSyntaxOWLParser\n4) TurtleOntologyParser\n5) OWLOBOParser\n6) KRSS2OWLParser\n7) ManchesterOWLSyntaxOntologyParser\n\n\nDetailed logs:\n--------------------------------------------------------------------------------\nParser: RDFXMLParser\norg.xml.sax.SAXParseException; systemId: http://addictovocab.org/addicto_external.owl; lineNumber: 1; columnNumber: 1; Content is not allowed in prolog.\n\n--------------------------------------------------------------------------------\nParser: OWLXMLParser\norg.xml.sax.SAXParseException; systemId: http://addictovocab.org/addicto_external.owl; lineNumber: 1; columnNumber: 1; Content is not allowed in prolog.\n\n--------------------------------------------------------------------------------\nParser: OWLFunctionalSyntaxOWLParser\nEncountered \" <PN_LOCAL> \"Redirecting \"\" at line 1, column 1.\nWas expecting:\n    \"Ontology\" ...\n     (Line 0)\n\n--------------------------------------------------------------------------------\nParser: TurtleOntologyParser\nuk.ac.manchester.cs.owl.owlapi.turtle.parser.ParseException: Encountered \"\" at line 1, column 1.\nWas expecting one of:\n    \n\n--------------------------------------------------------------------------------\nParser: OWLOBOParser\norg.coode.owlapi.obo.parser.ParseException: Encountered \"<EOF>\" at line 1, column 67.\nWas expecting one of:\n    \"[\" ...\n    <TAG_NAME> ...\n    <QUOTED_STRING> ...\n    <STRING> ...\n    <TAG_VALUE_WS> ...\n    <COMMENT> ...\n     (Line 1)\n\n--------------------------------------------------------------------------------\nParser: KRSS2OWLParser\nde.uulm.ecs.ai.owlapi.krssparser.ParseException: Encountered \" <NAME> \"Redirecting \"\" at line 1, column 1.\nWas expecting:\n    <EOF> \n    \n\n--------------------------------------------------------------------------------\nParser: ManchesterOWLSyntaxOntologyParser\nEncountered 'Redirecting to https://addictovocab.org/addicto_external.owl (308)' at line 1 column 1.  Expected either 'Ontology:' or 'Prefix:' (Line 1)\n\n\norg.semanticweb.owlapi.model.UnloadableImportException: Could not load imported ontology: <http://addictovocab.org/addicto_external.owl> Cause: Problem parsing http://addictovocab.org/addicto_external.owl\nCould not parse ontology.  Either a suitable parser could not be found, or parsing failed.  See parser logs below for explanation.\nThe following parsers were tried:\n1) RDFXMLParser\n2) OWLXMLParser\n3) OWLFunctionalSyntaxOWLParser\n4) TurtleOntologyParser\n5) OWLOBOParser\n6) KRSS2OWLParser\n7) ManchesterOWLSyntaxOntologyParser\n\n\nDetailed logs:\n--------------------------------------------------------------------------------\nParser: RDFXMLParser\norg.xml.sax.SAXParseException; systemId: http://addictovocab.org/addicto_external.owl; lineNumber: 1; columnNumber: 1; Content is not allowed in prolog.\n\n--------------------------------------------------------------------------------\nParser: OWLXMLParser\norg.xml.sax.SAXParseException; systemId: http://addictovocab.org/addicto_external.owl; lineNumber: 1; columnNumber: 1; Content is not allowed in prolog.\n\n--------------------------------------------------------------------------------\nParser: OWLFunctionalSyntaxOWLParser\nEncountered \" <PN_LOCAL> \"Redirecting \"\" at line 1, column 1.\nWas expecting:\n    \"Ontology\" ...\n     (Line 0)\n\n--------------------------------------------------------------------------------\nParser: TurtleOntologyParser\nuk.ac.manchester.cs.owl.owlapi.turtle.parser.ParseException: Encountered \"\" at line 1, column 1.\nWas expecting one of:\n    \n\n--------------------------------------------------------------------------------\nParser: OWLOBOParser\norg.coode.owlapi.obo.parser.ParseException: Encountered \"<EOF>\" at line 1, column 67.\nWas expecting one of:\n    \"[\" ...\n    <TAG_NAME> ...\n    <QUOTED_STRING> ...\n    <STRING> ...\n    <TAG_VALUE_WS> ...\n    <COMMENT> ...\n     (Line 1)\n\n--------------------------------------------------------------------------------\nParser: KRSS2OWLParser\nde.uulm.ecs.ai.owlapi.krssparser.ParseException: Encountered \" <NAME> \"Redirecting \"\" at line 1, column 1.\nWas expecting:\n    <EOF> \n    \n\n--------------------------------------------------------------------------------\nParser: ManchesterOWLSyntaxOntologyParser\nEncountered 'Redirecting to https://addictovocab.org/addicto_external.owl (308)' at line 1 column 1.  Expected either 'Ontology:' or 'Prefix:' (Line 1)\n\n\n\tat uk.ac.manchester.cs.owl.owlapi.turtle.parser.OWLRDFConsumerAdapter.handleTriple(OWLRDFConsumerAdapter.java:92)\n\tat uk.ac.manchester.cs.owl.owlapi.turtle.parser.TurtleParser.parseObject(TurtleParser.java:335)\n\tat uk.ac.manchester.cs.owl.owlapi.turtle.parser.TurtleParser.parseObjectList(TurtleParser.java:310)\n\tat uk.ac.manchester.cs.owl.owlapi.turtle.parser.TurtleParser.parsePredicateObjectList(TurtleParser.java:257)\n\tat uk.ac.manchester.cs.owl.owlapi.turtle.parser.TurtleParser.parseTriples(TurtleParser.java:185)\n\tat uk.ac.manchester.cs.owl.owlapi.turtle.parser.TurtleParser.parseStatement(TurtleParser.java:178)\n\tat uk.ac.manchester.cs.owl.owlapi.turtle.parser.TurtleParser.parseDocument(TurtleParser.java:130)\n\tat uk.ac.manchester.cs.owl.owlapi.turtle.parser.TurtleOntologyParser.parse(TurtleOntologyParser.java:100)\n\tat uk.ac.manchester.cs.owl.owlapi.ParsableOWLOntologyFactory.loadOWLOntology(ParsableOWLOntologyFactory.java:206)\n\tat uk.ac.manchester.cs.owl.owlapi.OWLOntologyManagerImpl.loadOntology(OWLOntologyManagerImpl.java:880)\n\tat uk.ac.manchester.cs.owl.owlapi.OWLOntologyManagerImpl.loadOntology(OWLOntologyManagerImpl.java:800)\n\tat uk.ac.manchester.cs.owl.owlapi.OWLOntologyManagerImpl.loadOntology(OWLOntologyManagerImpl.java:758)\n\tat org.semanticweb.HermiT.cli.CommandLine.main(CommandLine.java:798)\nCaused by: org.coode.owlapi.rdfxml.parser.TranslatedUnloadedImportException: Could not load imported ontology: <http://addictovocab.org/addicto_external.owl> Cause: Problem parsing http://addictovocab.org/addicto_external.owl\nCould not parse ontology.  Either a suitable parser could not be found, or parsing failed.  See parser logs below for explanation.\nThe following parsers were tried:\n1) RDFXMLParser\n2) OWLXMLParser\n3) OWLFunctionalSyntaxOWLParser\n4) TurtleOntologyParser\n5) OWLOBOParser\n6) KRSS2OWLParser\n7) ManchesterOWLSyntaxOntologyParser\n\n\nDetailed logs:\n--------------------------------------------------------------------------------\nParser: RDFXMLParser\norg.xml.sax.SAXParseException; systemId: http://addictovocab.org/addicto_external.owl; lineNumber: 1; columnNumber: 1; Content is not allowed in prolog.\n\n--------------------------------------------------------------------------------\nParser: OWLXMLParser\norg.xml.sax.SAXParseException; systemId: http://addictovocab.org/addicto_external.owl; lineNumber: 1; columnNumber: 1; Content is not allowed in prolog.\n\n--------------------------------------------------------------------------------\nParser: OWLFunctionalSyntaxOWLParser\nEncountered \" <PN_LOCAL> \"Redirecting \"\" at line 1, column 1.\nWas expecting:\n    \"Ontology\" ...\n     (Line 0)\n\n--------------------------------------------------------------------------------\nParser: TurtleOntologyParser\nuk.ac.manchester.cs.owl.owlapi.turtle.parser.ParseException: Encountered \"\" at line 1, column 1.\nWas expecting one of:\n    \n\n--------------------------------------------------------------------------------\nParser: OWLOBOParser\norg.coode.owlapi.obo.parser.ParseException: Encountered \"<EOF>\" at line 1, column 67.\nWas expecting one of:\n    \"[\" ...\n    <TAG_NAME> ...\n    <QUOTED_STRING> ...\n    <STRING> ...\n    <TAG_VALUE_WS> ...\n    <COMMENT> ...\n     (Line 1)\n\n--------------------------------------------------------------------------------\nParser: KRSS2OWLParser\nde.uulm.ecs.ai.owlapi.krssparser.ParseException: Encountered \" <NAME> \"Redirecting \"\" at line 1, column 1.\nWas expecting:\n    <EOF> \n    \n\n--------------------------------------------------------------------------------\nParser: ManchesterOWLSyntaxOntologyParser\nEncountered 'Redirecting to https://addictovocab.org/addicto_external.owl (308)' at line 1 column 1.  Expected either 'Ontology:' or 'Prefix:' (Line 1)\n\n\norg.semanticweb.owlapi.model.UnloadableImportException: Could not load imported ontology: <http://addictovocab.org/addicto_external.owl> Cause: Problem parsing http://addictovocab.org/addicto_external.owl\nCould not parse ontology.  Either a suitable parser could not be found, or parsing failed.  See parser logs below for explanation.\nThe following parsers were tried:\n1) RDFXMLParser\n2) OWLXMLParser\n3) OWLFunctionalSyntaxOWLParser\n4) TurtleOntologyParser\n5) OWLOBOParser\n6) KRSS2OWLParser\n7) ManchesterOWLSyntaxOntologyParser\n\n\nDetailed logs:\n--------------------------------------------------------------------------------\nParser: RDFXMLParser\norg.xml.sax.SAXParseException; systemId: http://addictovocab.org/addicto_external.owl; lineNumber: 1; columnNumber: 1; Content is not allowed in prolog.\n\n--------------------------------------------------------------------------------\nParser: OWLXMLParser\norg.xml.sax.SAXParseException; systemId: http://addictovocab.org/addicto_external.owl; lineNumber: 1; columnNumber: 1; Content is not allowed in prolog.\n\n--------------------------------------------------------------------------------\nParser: OWLFunctionalSyntaxOWLParser\nEncountered \" <PN_LOCAL> \"Redirecting \"\" at line 1, column 1.\nWas expecting:\n    \"Ontology\" ...\n     (Line 0)\n\n--------------------------------------------------------------------------------\nParser: TurtleOntologyParser\nuk.ac.manchester.cs.owl.owlapi.turtle.parser.ParseException: Encountered \"\" at line 1, column 1.\nWas expecting one of:\n    \n\n--------------------------------------------------------------------------------\nParser: OWLOBOParser\norg.coode.owlapi.obo.parser.ParseException: Encountered \"<EOF>\" at line 1, column 67.\nWas expecting one of:\n    \"[\" ...\n    <TAG_NAME> ...\n    <QUOTED_STRING> ...\n    <STRING> ...\n    <TAG_VALUE_WS> ...\n    <COMMENT> ...\n     (Line 1)\n\n--------------------------------------------------------------------------------\nParser: KRSS2OWLParser\nde.uulm.ecs.ai.owlapi.krssparser.ParseException: Encountered \" <NAME> \"Redirecting \"\" at line 1, column 1.\nWas expecting:\n    <EOF> \n    \n\n--------------------------------------------------------------------------------\nParser: ManchesterOWLSyntaxOntologyParser\nEncountered 'Redirecting to https://addictovocab.org/addicto_external.owl (308)' at line 1 column 1.  Expected either 'Ontology:' or 'Prefix:' (Line 1)\n\n\n\tat org.coode.owlapi.rdfxml.parser.OWLRDFConsumer.statementWithResourceValue(OWLRDFConsumer.java:1704)\n\tat uk.ac.manchester.cs.owl.owlapi.turtle.parser.OWLRDFConsumerAdapter.handleTriple(OWLRDFConsumerAdapter.java:89)\n\t... 12 more\nCaused by: org.semanticweb.owlapi.model.UnloadableImportException: Could not load imported ontology: <http://addictovocab.org/addicto_external.owl> Cause: Problem parsing http://addictovocab.org/addicto_external.owl\nCould not parse ontology.  Either a suitable parser could not be found, or parsing failed.  See parser logs below for explanation.\nThe following parsers were tried:\n1) RDFXMLParser\n2) OWLXMLParser\n3) OWLFunctionalSyntaxOWLParser\n4) TurtleOntologyParser\n5) OWLOBOParser\n6) KRSS2OWLParser\n7) ManchesterOWLSyntaxOntologyParser\n\n\nDetailed logs:\n--------------------------------------------------------------------------------\nParser: RDFXMLParser\norg.xml.sax.SAXParseException; systemId: http://addictovocab.org/addicto_external.owl; lineNumber: 1; columnNumber: 1; Content is not allowed in prolog.\n\n--------------------------------------------------------------------------------\nParser: OWLXMLParser\norg.xml.sax.SAXParseException; systemId: http://addictovocab.org/addicto_external.owl; lineNumber: 1; columnNumber: 1; Content is not allowed in prolog.\n\n--------------------------------------------------------------------------------\nParser: OWLFunctionalSyntaxOWLParser\nEncountered \" <PN_LOCAL> \"Redirecting \"\" at line 1, column 1.\nWas expecting:\n    \"Ontology\" ...\n     (Line 0)\n\n--------------------------------------------------------------------------------\nParser: TurtleOntologyParser\nuk.ac.manchester.cs.owl.owlapi.turtle.parser.ParseException: Encountered \"\" at line 1, column 1.\nWas expecting one of:\n    \n\n--------------------------------------------------------------------------------\nParser: OWLOBOParser\norg.coode.owlapi.obo.parser.ParseException: Encountered \"<EOF>\" at line 1, column 67.\nWas expecting one of:\n    \"[\" ...\n    <TAG_NAME> ...\n    <QUOTED_STRING> ...\n    <STRING> ...\n    <TAG_VALUE_WS> ...\n    <COMMENT> ...\n     (Line 1)\n\n--------------------------------------------------------------------------------\nParser: KRSS2OWLParser\nde.uulm.ecs.ai.owlapi.krssparser.ParseException: Encountered \" <NAME> \"Redirecting \"\" at line 1, column 1.\nWas expecting:\n    <EOF> \n    \n\n--------------------------------------------------------------------------------\nParser: ManchesterOWLSyntaxOntologyParser\nEncountered 'Redirecting to https://addictovocab.org/addicto_external.owl (308)' at line 1 column 1.  Expected either 'Ontology:' or 'Prefix:' (Line 1)\n\n\n\tat uk.ac.manchester.cs.owl.owlapi.OWLOntologyManagerImpl.makeLoadImportRequest(OWLOntologyManagerImpl.java:1315)\n\tat org.coode.owlapi.rdfxml.parser.TPImportsHandler.handleTriple(TPImportsHandler.java:89)\n\tat org.coode.owlapi.rdfxml.parser.OWLRDFConsumer.handleStreaming(OWLRDFConsumer.java:1742)\n\tat org.coode.owlapi.rdfxml.parser.OWLRDFConsumer.statementWithResourceValue(OWLRDFConsumer.java:1701)\n\t... 13 more\nCaused by: org.semanticweb.owlapi.io.UnparsableOntologyException: Problem parsing http://addictovocab.org/addicto_external.owl\nCould not parse ontology.  Either a suitable parser could not be found, or parsing failed.  See parser logs below for explanation.\nThe following parsers were tried:\n1) RDFXMLParser\n2) OWLXMLParser\n3) OWLFunctionalSyntaxOWLParser\n4) TurtleOntologyParser\n5) OWLOBOParser\n6) KRSS2OWLParser\n7) ManchesterOWLSyntaxOntologyParser\n\n\nDetailed logs:\n--------------------------------------------------------------------------------\nParser: RDFXMLParser\norg.xml.sax.SAXParseException; systemId: http://addictovocab.org/addicto_external.owl; lineNumber: 1; columnNumber: 1; Content is not allowed in prolog.\n\n--------------------------------------------------------------------------------\nParser: OWLXMLParser\norg.xml.sax.SAXParseException; systemId: http://addictovocab.org/addicto_external.owl; lineNumber: 1; columnNumber: 1; Content is not allowed in prolog.\n\n--------------------------------------------------------------------------------\nParser: OWLFunctionalSyntaxOWLParser\nEncountered \" <PN_LOCAL> \"Redirecting \"\" at line 1, column 1.\nWas expecting:\n    \"Ontology\" ...\n     (Line 0)\n\n--------------------------------------------------------------------------------\nParser: TurtleOntologyParser\nuk.ac.manchester.cs.owl.owlapi.turtle.parser.ParseException: Encountered \"\" at line 1, column 1.\nWas expecting one of:\n    \n\n--------------------------------------------------------------------------------\nParser: OWLOBOParser\norg.coode.owlapi.obo.parser.ParseException: Encountered \"<EOF>\" at line 1, column 67.\nWas expecting one of:\n    \"[\" ...\n    <TAG_NAME> ...\n    <QUOTED_STRING> ...\n    <STRING> ...\n    <TAG_VALUE_WS> ...\n    <COMMENT> ...\n     (Line 1)\n\n--------------------------------------------------------------------------------\nParser: KRSS2OWLParser\nde.uulm.ecs.ai.owlapi.krssparser.ParseException: Encountered \" <NAME> \"Redirecting \"\" at line 1, column 1.\nWas expecting:\n    <EOF> \n    \n\n--------------------------------------------------------------------------------\nParser: ManchesterOWLSyntaxOntologyParser\nEncountered 'Redirecting to https://addictovocab.org/addicto_external.owl (308)' at line 1 column 1.  Expected either 'Ontology:' or 'Prefix:' (Line 1)\n\n\n\tat uk.ac.manchester.cs.owl.owlapi.ParsableOWLOntologyFactory.loadOWLOntology(ParsableOWLOntologyFactory.java:236)\n\tat uk.ac.manchester.cs.owl.owlapi.OWLOntologyManagerImpl.loadOntology(OWLOntologyManagerImpl.java:880)\n\tat uk.ac.manchester.cs.owl.owlapi.OWLOntologyManagerImpl.loadOntology(OWLOntologyManagerImpl.java:800)\n\tat uk.ac.manchester.cs.owl.owlapi.OWLOntologyManagerImpl.loadImports(OWLOntologyManagerImpl.java:1278)\n\tat uk.ac.manchester.cs.owl.owlapi.OWLOntologyManagerImpl.makeLoadImportRequest(OWLOntologyManagerImpl.java:1309)\n\t... 16 more\n"
     ]
    }
   ],
   "source": [
    "with onto:\n",
    "    sync_reasoner()"
   ]
  },
  {
   "cell_type": "markdown",
   "metadata": {},
   "source": [
    "<span style=\"color: red;\">This parsing problem is because the file loader is not following HTTP redirects. </span>\n",
    "\n",
    "I may try to fix that later...\n",
    "\n",
    "Observations from the documentation: the reasoner asserts the results of reasoning into the ontology specified in the \"with ...\". Otherwise, it adds them to an ontology with the namespace ‘http://inferrences/’\n"
   ]
  },
  {
   "cell_type": "markdown",
   "metadata": {},
   "source": [
    "# OntoBio\n",
    "\n",
    "Notice that OntoBio and Pronto have an incompatibility in terms of the networkx version they depend on. Pronto requires the newer networkx and OntoBio the older networkx. \n",
    "\n",
    "When installing pronto: \n",
    "\n",
    "`\n",
    "ERROR: pip's dependency resolver does not currently take into account all the packages that are installed. This behaviour is the source of the following dependency conflicts.\n",
    "ontobio 2.1.1 requires networkx==2.2, but you have networkx 2.5 which is incompatible.\n",
    "`\n",
    "\n",
    "\n",
    "When installing ontobio: \n",
    "\n",
    "`\n",
    "ERROR: pip's dependency resolver does not currently take into account all the packages that are installed. This behaviour is the source of the following dependency conflicts.\n",
    "pronto 2.3.1 requires networkx~=2.3, but you have networkx 2.2 which is incompatible.`\n",
    "\n",
    "\n",
    "For now proceeding without this working - close network server, change networkx version, start server again. \n",
    "\n",
    "## Load an ontology\n",
    "\n",
    "It doesn't seem to work (at least for me) to load from OWL files. From OBO it seems to work. \n",
    "\n"
   ]
  },
  {
   "cell_type": "code",
   "execution_count": 15,
   "metadata": {},
   "outputs": [
    {
     "name": "stdout",
     "output_type": "stream",
     "text": [
      "http://addictovocab.org/addicto.owl handle: addicto.obo meta: {'subsets': [], 'xrefs': [], 'basicPropertyValues': [{'pred': 'http://www.geneontology.org/formats/oboInOwl#hasOBOFormatVersion', 'val': '1.2'}]}\n"
     ]
    }
   ],
   "source": [
    "\n",
    "from ontobio.ontol_factory import OntologyFactory\n",
    "\n",
    "ofactory = OntologyFactory()\n",
    "#ont = ofactory.create(\"addicto.owl\")\n",
    "# Nope: Gives error: CalledProcessError: Command '['owltools', 'addicto.owl', '-o', '-f', 'json', '/tmp/ca1ba9938d82084c9263f4e273df272dcd886ec50e97c260b09f570cd82e61e5']' returned non-zero exit status 1.\n",
    "\n",
    "ont = ofactory.create(\"addicto.obo\")\n",
    "\n",
    "print(ont)"
   ]
  },
  {
   "cell_type": "markdown",
   "metadata": {},
   "source": [
    "## Search for entries in the ontology\n",
    "\n",
    "### Label searches\n",
    "\n",
    "Documentation says regular expressions can be used in the search but doesn't give examples of the syntax of the regular expressions that should be used?  \n",
    "- Found an example in another notebook ... the wildcard character is '%'\n",
    "- Also the code itself  has documentation for this method. "
   ]
  },
  {
   "cell_type": "code",
   "execution_count": 16,
   "metadata": {},
   "outputs": [
    {
     "name": "stdout",
     "output_type": "stream",
     "text": [
      "Search for 'smoker': []\n",
      "Search for '%smoker': ['OBO:ADDICTO_0000394--predominant smoker', 'OBO:ADDICTO_0000392--positive self-appraisal of tobacco smoker identity', 'OBO:ADDICTO_0000714--ex-smoker identity', 'OBO:ADDICTO_0000805--exclusive cannabis smoker', 'OBO:ADDICTO_0000828--recent ex-smoker', 'OBO:ADDICTO_0000787--recent former regular smoker', 'OBO:ADDICTO_0000713--ex-smoker', 'OBO:ADDICTO_0000406--tobacco smoker identity', 'OBO:ADDICTO_0000836--dual smokeless-containing product user and tobacco smoker', 'OBO:ADDICTO_0000808--long-term ex smoker', 'OBO:ADDICTO_0000910--mulled cigarette smoker', 'OBO:ADDICTO_0000368--daily cigarette smoker', 'OBO:ADDICTO_0000386--non-daily tobacco smoker', 'OBO:ADDICTO_0000717--non-smoker identity', 'OBO:ADDICTO_0000799--daily cannabis smoker', 'OBO:ADDICTO_0000772--ever tobacco smoker', 'OBO:ADDICTO_0000770--chain smoker', 'OBO:ADDICTO_0000797--cannabis smoker', 'OBO:ADDICTO_0000786--pregnant smoker', 'OBO:ADDICTO_0000775--former regular smoker', 'OBO:ADDICTO_0000924--ex-smoker with COPD', 'OBO:ADDICTO_0000370--daily tobacco smoker', 'OBO:ADDICTO_0000780--not a current smoker', 'OBO:ADDICTO_0000850--waterpipe smoker', 'OBO:ADDICTO_0000405--tobacco smoker', 'OBO:ADDICTO_0000773--ex e-cigarette user current smoker', 'OBO:ADDICTO_0000802--daily non-treatment-seeking cigarette smoker', 'OBO:ADDICTO_0000777--former tobacco smoker', 'OBO:ADDICTO_0000788--recent smoker', 'OBO:ADDICTO_0000779--never smoker']\n"
     ]
    }
   ],
   "source": [
    "print(\"Search for 'smoker':\", ont.search('smoker'))\n",
    "\n",
    "print(\"Search for '%smoker':\", [f\"{x}--{ont.label(x)}\" for x in ont.search('%smoker')])"
   ]
  },
  {
   "cell_type": "markdown",
   "metadata": {},
   "source": [
    "Is it weird that 'ex-smoker identity' (and other examples of smoker identity classes) shows up in these search results, when the wildcard was only specified at the beginning of the word? "
   ]
  },
  {
   "cell_type": "markdown",
   "metadata": {},
   "source": [
    "### Annotation metadata searches\n",
    "\n",
    "We try to find synonyms, definitions, comments\n"
   ]
  },
  {
   "cell_type": "code",
   "execution_count": 18,
   "metadata": {},
   "outputs": [
    {
     "name": "stdout",
     "output_type": "stream",
     "text": [
      "Node: {'id': 'http://purl.obolibrary.org/obo/ADDICTO_0000405', 'meta': {'definition': {'val': 'A psychoactive substance user who participates in tobacco smoking.', 'xrefs': []}, 'comments': ['This refers to a current time frame for participation. This should be specified unless it is obvious from context.'], 'basicPropertyValues': [{'pred': 'IAO:0000118', 'val': ' Smoker'}, {'pred': 'IAO:0000118', 'val': ' daily smoker'}, {'pred': 'IAO:0000118', 'val': 'Cigarette smoker'}]}, 'type': 'CLASS', 'lbl': 'tobacco smoker', 'label': 'tobacco smoker'}\n",
      "Definition: A psychoactive substance user who participates in tobacco smoking.\n",
      "Comment: ['This refers to a current time frame for participation. This should be specified unless it is obvious from context.']\n",
      "Synonyms: [{'pred': 'IAO:0000118', 'val': ' Smoker'}, {'pred': 'IAO:0000118', 'val': ' daily smoker'}, {'pred': 'IAO:0000118', 'val': 'Cigarette smoker'}]\n"
     ]
    }
   ],
   "source": [
    "[smoker] = ont.search('tobacco smoker')\n",
    "# Show the metadata for the ontology node\n",
    "print(\"Node:\",ont.node(smoker))\n",
    "\n",
    "# We can get the definition OK\n",
    "print(\"Definition:\",ont.node(smoker)['meta']['definition']['val'])\n",
    "\n",
    "# Also the comments: \n",
    "print(\"Comment:\",ont.node(smoker)['meta']['comments'])\n",
    "\n",
    "# Two ways to get synonyms, from the documentation: \n",
    "#ont.node(smoker)['meta']['synonyms']  \n",
    "# Convenience method: \n",
    "#ont.synonyms('ADDICTO:0000405')\n",
    "\n",
    "# Neither of those work for the IAO:0000118 (alternative term) synonym tag\n",
    "# Instead we use: \n",
    "print(\"Synonyms:\",ont.node(smoker)['meta']['basicPropertyValues'])"
   ]
  },
  {
   "cell_type": "markdown",
   "metadata": {},
   "source": [
    "### Hierarchical searches: find all ancestors and descendents\n",
    "    "
   ]
  },
  {
   "cell_type": "code",
   "execution_count": 19,
   "metadata": {},
   "outputs": [
    {
     "name": "stdout",
     "output_type": "stream",
     "text": [
      "Ancestors: ['OBO:ADDICTO_0000405', 'OBO:ADDICTO_0000849', 'MF:0000016', 'BFO:0000001', 'BFO:0000002', 'owl:Thing', 'OGMS:0000087', 'BFO:0000040', 'BFO:0000004']\n",
      "Descendants: ['OBO:ADDICTO_0000405', 'OBO:ADDICTO_0000773', 'OBO:ADDICTO_0000802', 'OBO:ADDICTO_0000808', 'OBO:ADDICTO_0000370', 'OBO:ADDICTO_0000368', 'OBO:ADDICTO_0000386', 'OBO:ADDICTO_0000788', 'OBO:ADDICTO_0000770', 'OBO:ADDICTO_0000772', 'OBO:ADDICTO_0000786']\n",
      "All available relations: ['BFO:0000051', 'IAO:0000136', 'RO:0001000', 'subPropertyOf', 'RO:0000087', 'subClassOf']\n"
     ]
    }
   ],
   "source": [
    "ancs = ont.ancestors(smoker, reflexive=True)\n",
    "print(\"Ancestors:\",ancs)\n",
    "\n",
    "desc = ont.descendants(smoker, reflexive=True)\n",
    "print(\"Descendants:\",desc)\n",
    "\n",
    "# Other relations\n",
    "print(\"All available relations:\",ont.relations_used())\n",
    "\n"
   ]
  },
  {
   "cell_type": "markdown",
   "metadata": {},
   "source": [
    "## Visualisation\n",
    "\n",
    "\n",
    "OntoBio provides some neat graph visualisation options. Let's see if we can get them to work here. "
   ]
  },
  {
   "cell_type": "code",
   "execution_count": 20,
   "metadata": {},
   "outputs": [
    {
     "name": "stdout",
     "output_type": "stream",
     "text": [
      "BFO:0000001\n",
      "882\n",
      "9\n"
     ]
    },
    {
     "data": {
      "text/plain": [
       "['BFO:0000001',\n",
       " 'BFO:0000002',\n",
       " 'BFO:0000004',\n",
       " 'BFO:0000040',\n",
       " 'OGMS:0000087',\n",
       " 'MF:0000016',\n",
       " 'OBO:ADDICTO_0000849',\n",
       " 'OBO:ADDICTO_0000405']"
      ]
     },
     "execution_count": 20,
     "metadata": {},
     "output_type": "execute_result"
    }
   ],
   "source": [
    "import networkx as nx\n",
    "\n",
    "[root] = ont.search('entity')\n",
    "print(root)\n",
    "\n",
    "graph = ont.get_graph()\n",
    "print(len(graph))\n",
    "graph.node[smoker]\n",
    "\n",
    "ancs = ont.ancestors(smoker, reflexive=True)\n",
    "print(len(ancs))\n",
    "\n",
    "## Make a sub-ontology with just term and ancestors\n",
    "subont = ont.subontology(ancs)\n",
    "\n",
    "sample_path = list(nx.all_simple_paths(graph, root, smoker))[0]\n",
    "sample_path\n"
   ]
  },
  {
   "cell_type": "code",
   "execution_count": 4,
   "metadata": {},
   "outputs": [
    {
     "ename": "NameError",
     "evalue": "name 'subont' is not defined",
     "output_type": "error",
     "traceback": [
      "\u001b[0;31m---------------------------------------------------------------------------\u001b[0m",
      "\u001b[0;31mNameError\u001b[0m                                 Traceback (most recent call last)",
      "\u001b[0;32m<ipython-input-4-44016a221fcf>\u001b[0m in \u001b[0;36m<module>\u001b[0;34m\u001b[0m\n\u001b[1;32m      4\u001b[0m \u001b[0mw\u001b[0m \u001b[0;34m=\u001b[0m \u001b[0mGraphRenderer\u001b[0m\u001b[0;34m.\u001b[0m\u001b[0mcreate\u001b[0m\u001b[0;34m(\u001b[0m\u001b[0;34m'png'\u001b[0m\u001b[0;34m)\u001b[0m\u001b[0;34m\u001b[0m\u001b[0;34m\u001b[0m\u001b[0m\n\u001b[1;32m      5\u001b[0m \u001b[0mw\u001b[0m\u001b[0;34m.\u001b[0m\u001b[0moutfile\u001b[0m \u001b[0;34m=\u001b[0m \u001b[0;34m'multipath.png'\u001b[0m\u001b[0;34m\u001b[0m\u001b[0;34m\u001b[0m\u001b[0m\n\u001b[0;32m----> 6\u001b[0;31m \u001b[0mw\u001b[0m\u001b[0;34m.\u001b[0m\u001b[0mwrite\u001b[0m\u001b[0;34m(\u001b[0m\u001b[0msubont\u001b[0m\u001b[0;34m,\u001b[0m\u001b[0mquery_ids\u001b[0m\u001b[0;34m=\u001b[0m\u001b[0msample_path\u001b[0m\u001b[0;34m)\u001b[0m\u001b[0;34m\u001b[0m\u001b[0;34m\u001b[0m\u001b[0m\n\u001b[0m",
      "\u001b[0;31mNameError\u001b[0m: name 'subont' is not defined"
     ]
    }
   ],
   "source": [
    "## Render the sub-ontology,\n",
    "## highlighting a sample path\n",
    "from ontobio.io.ontol_renderers import GraphRenderer\n",
    "w = GraphRenderer.create('png')\n",
    "w.outfile = 'multipath.png'\n",
    "w.write(subont,query_ids=sample_path)"
   ]
  },
  {
   "cell_type": "markdown",
   "metadata": {},
   "source": [
    "Seems to work!"
   ]
  },
  {
   "cell_type": "markdown",
   "metadata": {},
   "source": [
    "<span style=\"color: red;\">Initially got error: </span>\n",
    "\n",
    "`FileNotFoundError: [Errno 2] No such file or directory: 'og2dot.js'`\n",
    "\n",
    "Fix (found [online](https://github.com/biolink/ontobio/issues/209))\n",
    "\n",
    "`Install obographviz from\n",
    "https://github.com/cmungall/obographviz\n",
    "npm i obographviz\n",
    "and add og2dot.js to the path.`\n",
    "\n",
    "I first had to install Node (via Homebrew)\n",
    "\n",
    "![graph visualisation](multipath.png \"Graph Visualisation\")\n",
    "\n",
    "It would be great to explore the visualisation capabilities of [the obographviz library](https://github.com/cmungall/obographviz/releases/tag/0.2.2) further. "
   ]
  },
  {
   "cell_type": "code",
   "execution_count": 23,
   "metadata": {},
   "outputs": [
    {
     "ename": "AttributeError",
     "evalue": "'MultiDiGraph' object has no attribute 'get_roots'",
     "output_type": "error",
     "traceback": [
      "\u001b[0;31m---------------------------------------------------------------------------\u001b[0m",
      "\u001b[0;31mAttributeError\u001b[0m                            Traceback (most recent call last)",
      "\u001b[0;32m<ipython-input-23-88fa16dfc018>\u001b[0m in \u001b[0;36m<module>\u001b[0;34m\u001b[0m\n\u001b[1;32m      9\u001b[0m \u001b[0;32mfrom\u001b[0m \u001b[0montobio\u001b[0m\u001b[0;34m.\u001b[0m\u001b[0mio\u001b[0m\u001b[0;34m.\u001b[0m\u001b[0montol_renderers\u001b[0m \u001b[0;32mimport\u001b[0m \u001b[0mGraphRenderer\u001b[0m\u001b[0;34m\u001b[0m\u001b[0;34m\u001b[0m\u001b[0m\n\u001b[1;32m     10\u001b[0m \u001b[0mw\u001b[0m \u001b[0;34m=\u001b[0m \u001b[0mGraphRenderer\u001b[0m\u001b[0;34m.\u001b[0m\u001b[0mcreate\u001b[0m\u001b[0;34m(\u001b[0m\u001b[0;34m'tree'\u001b[0m\u001b[0;34m)\u001b[0m\u001b[0;34m\u001b[0m\u001b[0;34m\u001b[0m\u001b[0m\n\u001b[0;32m---> 11\u001b[0;31m \u001b[0mw\u001b[0m\u001b[0;34m.\u001b[0m\u001b[0mwrite\u001b[0m\u001b[0;34m(\u001b[0m\u001b[0mg\u001b[0m\u001b[0;34m,\u001b[0m \u001b[0mquery_ids\u001b[0m\u001b[0;34m=\u001b[0m\u001b[0mterms\u001b[0m\u001b[0;34m)\u001b[0m\u001b[0;34m\u001b[0m\u001b[0;34m\u001b[0m\u001b[0m\n\u001b[0m",
      "\u001b[0;32m/Library/Frameworks/Python.framework/Versions/3.8/lib/python3.8/site-packages/ontobio/io/ontol_renderers.py\u001b[0m in \u001b[0;36mwrite\u001b[0;34m(self, ontol, **args)\u001b[0m\n\u001b[1;32m     56\u001b[0m         \u001b[0mWrite\u001b[0m \u001b[0ma\u001b[0m\u001b[0;31m \u001b[0m\u001b[0;31m`\u001b[0m\u001b[0montology\u001b[0m\u001b[0;31m`\u001b[0m \u001b[0mobject\u001b[0m\u001b[0;34m\u001b[0m\u001b[0;34m\u001b[0m\u001b[0m\n\u001b[1;32m     57\u001b[0m         \"\"\"\n\u001b[0;32m---> 58\u001b[0;31m         \u001b[0ms\u001b[0m \u001b[0;34m=\u001b[0m \u001b[0mself\u001b[0m\u001b[0;34m.\u001b[0m\u001b[0mrender\u001b[0m\u001b[0;34m(\u001b[0m\u001b[0montol\u001b[0m\u001b[0;34m,\u001b[0m \u001b[0;34m**\u001b[0m\u001b[0margs\u001b[0m\u001b[0;34m)\u001b[0m\u001b[0;34m\u001b[0m\u001b[0;34m\u001b[0m\u001b[0m\n\u001b[0m\u001b[1;32m     59\u001b[0m         \u001b[0;32mif\u001b[0m \u001b[0mself\u001b[0m\u001b[0;34m.\u001b[0m\u001b[0moutfile\u001b[0m \u001b[0;32mis\u001b[0m \u001b[0;32mNone\u001b[0m\u001b[0;34m:\u001b[0m\u001b[0;34m\u001b[0m\u001b[0;34m\u001b[0m\u001b[0m\n\u001b[1;32m     60\u001b[0m             \u001b[0mprint\u001b[0m\u001b[0;34m(\u001b[0m\u001b[0ms\u001b[0m\u001b[0;34m)\u001b[0m\u001b[0;34m\u001b[0m\u001b[0;34m\u001b[0m\u001b[0m\n",
      "\u001b[0;32m/Library/Frameworks/Python.framework/Versions/3.8/lib/python3.8/site-packages/ontobio/io/ontol_renderers.py\u001b[0m in \u001b[0;36mrender\u001b[0;34m(self, ontol, **args)\u001b[0m\n\u001b[1;32m    239\u001b[0m         \u001b[0;31m#ts = nx.topological_sort(g)\u001b[0m\u001b[0;34m\u001b[0m\u001b[0;34m\u001b[0m\u001b[0;34m\u001b[0m\u001b[0m\n\u001b[1;32m    240\u001b[0m         \u001b[0;31m#roots = [n for n in ts if len(g.predecessors(n))==0]\u001b[0m\u001b[0;34m\u001b[0m\u001b[0;34m\u001b[0m\u001b[0;34m\u001b[0m\u001b[0m\n\u001b[0;32m--> 241\u001b[0;31m         \u001b[0mroots\u001b[0m \u001b[0;34m=\u001b[0m \u001b[0montol\u001b[0m\u001b[0;34m.\u001b[0m\u001b[0mget_roots\u001b[0m\u001b[0;34m(\u001b[0m\u001b[0;34m)\u001b[0m\u001b[0;34m\u001b[0m\u001b[0;34m\u001b[0m\u001b[0m\n\u001b[0m\u001b[1;32m    242\u001b[0m         \u001b[0mlogger\u001b[0m\u001b[0;34m.\u001b[0m\u001b[0minfo\u001b[0m\u001b[0;34m(\u001b[0m\u001b[0;34m\"Drawing ascii tree, using roots: {}\"\u001b[0m\u001b[0;34m.\u001b[0m\u001b[0mformat\u001b[0m\u001b[0;34m(\u001b[0m\u001b[0mroots\u001b[0m\u001b[0;34m)\u001b[0m\u001b[0;34m)\u001b[0m\u001b[0;34m\u001b[0m\u001b[0;34m\u001b[0m\u001b[0m\n\u001b[1;32m    243\u001b[0m         \u001b[0;32mif\u001b[0m \u001b[0mlen\u001b[0m\u001b[0;34m(\u001b[0m\u001b[0mroots\u001b[0m\u001b[0;34m)\u001b[0m \u001b[0;34m==\u001b[0m \u001b[0;36m0\u001b[0m\u001b[0;34m:\u001b[0m\u001b[0;34m\u001b[0m\u001b[0;34m\u001b[0m\u001b[0m\n",
      "\u001b[0;31mAttributeError\u001b[0m: 'MultiDiGraph' object has no attribute 'get_roots'"
     ]
    }
   ],
   "source": [
    "## Create a minimal slim from the ontology covering a specified term list \n",
    "## with non-informative intermediate nodes removed\n",
    "from ontobio.slimmer import get_minimal_subgraph\n",
    "\n",
    "terms = ont.search('%smoker')\n",
    "g = get_minimal_subgraph(ont.get_graph(), terms)\n",
    "\n",
    "## Render as ascii-tree\n",
    "from ontobio.io.ontol_renderers import GraphRenderer\n",
    "w = GraphRenderer.create('tree')\n",
    "w.write(g, query_ids=terms)\n"
   ]
  },
  {
   "cell_type": "code",
   "execution_count": 24,
   "metadata": {},
   "outputs": [
    {
     "name": "stderr",
     "output_type": "stream",
     "text": [
      "/Library/Frameworks/Python.framework/Versions/3.8/lib/python3.8/site-packages/networkx/drawing/nx_pylab.py:563: MatplotlibDeprecationWarning: \n",
      "The iterable function was deprecated in Matplotlib 3.1 and will be removed in 3.3. Use np.iterable instead.\n",
      "  if not cb.iterable(width):\n",
      "/Library/Frameworks/Python.framework/Versions/3.8/lib/python3.8/site-packages/networkx/drawing/nx_pylab.py:660: MatplotlibDeprecationWarning: \n",
      "The iterable function was deprecated in Matplotlib 3.1 and will be removed in 3.3. Use np.iterable instead.\n",
      "  if cb.iterable(node_size):  # many node sizes\n"
     ]
    },
    {
     "data": {
      "image/png": "[encoded data removed]",
      "text/plain": [
       "<Figure size 432x288 with 1 Axes>"
      ]
     },
     "metadata": {},
     "output_type": "display_data"
    }
   ],
   "source": [
    "import networkx\n",
    "import matplotlib.pyplot as plt\n",
    "\n",
    "networkx.draw(graph)\n",
    "plt.show()"
   ]
  },
  {
   "cell_type": "markdown",
   "metadata": {},
   "source": [
    "# Pronto\n",
    "\n",
    "## Load an ontology from a file\n",
    "\n",
    "Loading from OWL doesn't work. Use Robot to convert the ontology to OBO and then load from OBO. \n"
   ]
  },
  {
   "cell_type": "code",
   "execution_count": 6,
   "metadata": {},
   "outputs": [],
   "source": [
    "import pronto\n",
    "\n",
    "# addicto = pronto.Ontology('addicto.owl')\n",
    "\n",
    "addicto = pronto.Ontology('addicto.obo')"
   ]
  },
  {
   "cell_type": "code",
   "execution_count": 7,
   "metadata": {},
   "outputs": [
    {
     "data": {
      "text/plain": [
       "[Term('ADDICTO:0000101', name='7-day point prevalence tobacco smoking abstinence'),\n",
       " Term('ADDICTO:0000104', name='abstinence'),\n",
       " Term('ADDICTO:0000105', name='abstinence rate'),\n",
       " Term('ADDICTO:0000109', name='addictiveness of a behaviour'),\n",
       " Term('ADDICTO:0000110', name='adolescent alcohol consumption'),\n",
       " Term('ADDICTO:0000111', name='adolescent substance use'),\n",
       " Term('ADDICTO:0000114', name='alcohol and substance use'),\n",
       " Term('ADDICTO:0000115', name='alcohol consumption change'),\n",
       " Term('ADDICTO:0000116', name='alcohol consumption reduction'),\n",
       " Term('ADDICTO:0000117', name='alcohol consumption trend')]"
      ]
     },
     "execution_count": 7,
     "metadata": {},
     "output_type": "execute_result"
    }
   ],
   "source": [
    "[t for t in itertools.islice(addicto.terms(),10)]"
   ]
  },
  {
   "cell_type": "markdown",
   "metadata": {},
   "source": [
    "## Search for entries\n",
    "\n",
    "### Label search\n",
    "\n",
    "There is no \"search\" function as such in Pronto as far as I can tell. \n",
    "\n"
   ]
  },
  {
   "cell_type": "code",
   "execution_count": 8,
   "metadata": {},
   "outputs": [
    {
     "data": {
      "text/plain": [
       "[Term('ADDICTO:0000370', name='daily tobacco smoker'),\n",
       " Term('ADDICTO:0000386', name='non-daily tobacco smoker'),\n",
       " Term('ADDICTO:0000392', name='positive self-appraisal of tobacco smoker identity'),\n",
       " Term('ADDICTO:0000394', name='predominant smoker'),\n",
       " Term('ADDICTO:0000405', name='tobacco smoker'),\n",
       " Term('ADDICTO:0000406', name='tobacco smoker identity'),\n",
       " Term('ADDICTO:0000713', name='ex-smoker'),\n",
       " Term('ADDICTO:0000714', name='ex-smoker identity'),\n",
       " Term('ADDICTO:0000717', name='non-smoker identity')]"
      ]
     },
     "execution_count": 8,
     "metadata": {},
     "output_type": "execute_result"
    }
   ],
   "source": [
    "[t for t in addicto.terms() if 'smoker' in t.name][1:10]"
   ]
  },
  {
   "cell_type": "markdown",
   "metadata": {},
   "source": [
    "### Annotation metadata search\n"
   ]
  },
  {
   "cell_type": "code",
   "execution_count": 28,
   "metadata": {},
   "outputs": [
    {
     "name": "stdout",
     "output_type": "stream",
     "text": [
      "Synonyms: []\n",
      "Annotations: [LiteralPropertyValue('IAO:0000118', 'Daily smoker'), LiteralPropertyValue('IAO:0000118', 'Daily smoker'), LiteralPropertyValue('IAO:0000118', ' smoker'), LiteralPropertyValue('IAO:0000118', ' daily cigarette smoker'), LiteralPropertyValue('IAO:0000118', 'Occasional smoker'), LiteralPropertyValue('IAO:0000118', 'Positive smoker identity'), LiteralPropertyValue('IAO:0000118', 'Dual user'), LiteralPropertyValue('curator_notes', \"A class of 'dual-user'\"), LiteralPropertyValue('IAO:0000118', 'Cigarette smoker'), LiteralPropertyValue('IAO:0000118', ' Smoker'), LiteralPropertyValue('IAO:0000118', ' daily smoker'), LiteralPropertyValue('IAO:0000119', 'CN'), LiteralPropertyValue('IAO:0000119', 'CN'), LiteralPropertyValue('IAO:0000118', 'Ever smoker'), LiteralPropertyValue('IAO:0000118', ' ex-vaper'), LiteralPropertyValue('IAO:0000118', 'Smoker'), LiteralPropertyValue('IAO:0000118', ' current smoker'), LiteralPropertyValue('IAO:0000118', ' ex e-cigarette user'), LiteralPropertyValue('IAO:0000118', 'Ex-smoker'), LiteralPropertyValue('IAO:0000118', ' non-smoker'), LiteralPropertyValue('IAO:0000118', 'Ex-smoker'), LiteralPropertyValue('IAO:0000118', ' past regular smoker'), LiteralPropertyValue('IAO:0000118', 'Ex-smoker'), LiteralPropertyValue('IAO:0000118', ' smoker'), LiteralPropertyValue('IAO:0000118', 'Current smoker'), LiteralPropertyValue('IAO:0000118', ' recent smoker'), LiteralPropertyValue('IAO:0000118', ' daily tobacco user'), LiteralPropertyValue('IAO:0000118', ' unmotivated smoker'), LiteralPropertyValue('IAO:0000118', 'Daily smoker'), LiteralPropertyValue('IAO:0000118', 'cannabis smoker'), LiteralPropertyValue('IAO:0000118', 'ex-smoker'), LiteralPropertyValue('IAO:0000118', 'past smoker'), LiteralPropertyValue('IAO:0000118', ' recent quitter'), LiteralPropertyValue('IAO:0000118', 'Heavy smoker'), LiteralPropertyValue('IAO:0000118', 'smokeless user'), LiteralPropertyValue('IAO:0000118', ' user of tobacco'), LiteralPropertyValue('IAO:0000118', ' dual user'), LiteralPropertyValue('IAO:0000118', ' tobacco smoker'), LiteralPropertyValue('IAO:0000118', 'waterpipe user')]\n",
      "IAO:alternative terms ['Daily smoker', 'Daily smoker', ' smoker', ' daily cigarette smoker', 'Occasional smoker', 'Positive smoker identity', 'Dual user', 'Cigarette smoker', ' Smoker', ' daily smoker', 'Ever smoker', ' ex-vaper', 'Smoker', ' current smoker', ' ex e-cigarette user', 'Ex-smoker', ' non-smoker', 'Ex-smoker', ' past regular smoker', 'Ex-smoker', ' smoker', 'Current smoker', ' recent smoker', ' daily tobacco user', ' unmotivated smoker', 'Daily smoker', 'cannabis smoker', 'ex-smoker', 'past smoker', ' recent quitter', 'Heavy smoker', 'smokeless user', ' user of tobacco', ' dual user', ' tobacco smoker', 'waterpipe user']\n"
     ]
    }
   ],
   "source": [
    "smokers = [t for t in addicto.terms() if 'smoker' in t.name]\n",
    "\n",
    "print(\"Synonyms:\",[s for smoker in smokers for s in smoker.synonyms])\n",
    "\n",
    "print(\"Annotations:\",[s for smoker in smokers for s in smoker.annotations])\n",
    "\n",
    "print(\"IAO:alternative terms\",[s.literal for smoker in smokers for s in smoker.annotations if s.property=='IAO:0000118'])\n"
   ]
  },
  {
   "cell_type": "markdown",
   "metadata": {},
   "source": [
    "### Hierarchical searches: find all ancestors and descendents"
   ]
  },
  {
   "cell_type": "code",
   "execution_count": 30,
   "metadata": {},
   "outputs": [
    {
     "name": "stdout",
     "output_type": "stream",
     "text": [
      "Superclasses: [Term('ADDICTO:0000405', name='tobacco smoker'), Term('ADDICTO:0000849', name='tobacco-containing product user'), Term('MF:0000016', name='human being'), Term('OGMS:0000087', name='extended organism'), Term('BFO:0000040', name='material entity'), Term('BFO:0000004', name='independent continuant'), Term('BFO:0000002', name='continuant'), Term('BFO:0000001', name='entity')]\n",
      "Subclasses: [Term('ADDICTO:0000405', name='tobacco smoker'), Term('ADDICTO:0000370', name='daily tobacco smoker'), Term('ADDICTO:0000386', name='non-daily tobacco smoker'), Term('ADDICTO:0000772', name='ever tobacco smoker'), Term('ADDICTO:0000773', name='ex e-cigarette user current smoker'), Term('ADDICTO:0000786', name='pregnant smoker'), Term('ADDICTO:0000788', name='recent smoker'), Term('ADDICTO:0000368', name='daily cigarette smoker'), Term('ADDICTO:0000808', name='long-term ex smoker'), Term('ADDICTO:0000770', name='chain smoker'), Term('ADDICTO:0000802', name='daily non-treatment-seeking cigarette smoker')]\n",
      "Other relationships: []\n",
      "Just immediate parents: [Term('ADDICTO:0000405', name='tobacco smoker'), Term('ADDICTO:0000849', name='tobacco-containing product user')]\n",
      "Leaf subclasses: [Term('ADDICTO:0000386', name='non-daily tobacco smoker'), Term('ADDICTO:0000773', name='ex e-cigarette user current smoker'), Term('ADDICTO:0000786', name='pregnant smoker'), Term('ADDICTO:0000788', name='recent smoker'), Term('ADDICTO:0000808', name='long-term ex smoker'), Term('ADDICTO:0000770', name='chain smoker'), Term('ADDICTO:0000802', name='daily non-treatment-seeking cigarette smoker')]\n"
     ]
    }
   ],
   "source": [
    "[smoker] = [t for t in addicto.terms() if 'tobacco smoker' == t.name]\n",
    "\n",
    "print(\"Superclasses:\",[s for s in smoker.superclasses()])\n",
    "\n",
    "print(\"Subclasses:\",[s for s in smoker.subclasses()])\n",
    "\n",
    "print(\"Other relationships:\",[r for r in smoker.relationships])\n",
    "\n",
    "print(\"Just immediate parents:\",[s for s in smoker.superclasses(distance=1)])\n",
    "\n",
    "print(\"Leaf subclasses:\",[s for s in smoker.subclasses() if s.is_leaf()])"
   ]
  },
  {
   "cell_type": "markdown",
   "metadata": {},
   "source": [
    "## Modifying the ontology \n",
    "\n"
   ]
  },
  {
   "cell_type": "code",
   "execution_count": 31,
   "metadata": {},
   "outputs": [
    {
     "name": "stdout",
     "output_type": "stream",
     "text": [
      "Term('ADDICTO:0000405', name='tobacco smoker X')\n",
      "Term('ADDICTO:0000405', name='tobacco smoker')\n"
     ]
    }
   ],
   "source": [
    "smoker.name = 'tobacco smoker X'\n",
    "\n",
    "print(smoker)\n",
    "\n",
    "smoker.name = 'tobacco smoker'\n",
    "\n",
    "print(smoker)"
   ]
  },
  {
   "cell_type": "markdown",
   "metadata": {},
   "source": [
    "## Saving the ontology "
   ]
  },
  {
   "cell_type": "code",
   "execution_count": 32,
   "metadata": {},
   "outputs": [],
   "source": [
    "with open(\"addicto_modified.obo\", \"wb\") as f:\n",
    "    addicto.dump(f, format=\"obo\")"
   ]
  },
  {
   "cell_type": "code",
   "execution_count": 33,
   "metadata": {},
   "outputs": [
    {
     "ename": "ValueError",
     "evalue": "could not find a serializer to handle 'owl'",
     "output_type": "error",
     "traceback": [
      "\u001b[0;31m---------------------------------------------------------------------------\u001b[0m",
      "\u001b[0;31mValueError\u001b[0m                                Traceback (most recent call last)",
      "\u001b[0;32m<ipython-input-33-e9a027e48eff>\u001b[0m in \u001b[0;36m<module>\u001b[0;34m\u001b[0m\n\u001b[1;32m      1\u001b[0m \u001b[0;32mwith\u001b[0m \u001b[0mopen\u001b[0m\u001b[0;34m(\u001b[0m\u001b[0;34m\"addicto_modified.owl\"\u001b[0m\u001b[0;34m,\u001b[0m \u001b[0;34m\"wb\"\u001b[0m\u001b[0;34m)\u001b[0m \u001b[0;32mas\u001b[0m \u001b[0mf\u001b[0m\u001b[0;34m:\u001b[0m\u001b[0;34m\u001b[0m\u001b[0;34m\u001b[0m\u001b[0m\n\u001b[0;32m----> 2\u001b[0;31m     \u001b[0maddicto\u001b[0m\u001b[0;34m.\u001b[0m\u001b[0mdump\u001b[0m\u001b[0;34m(\u001b[0m\u001b[0mf\u001b[0m\u001b[0;34m,\u001b[0m \u001b[0mformat\u001b[0m\u001b[0;34m=\u001b[0m\u001b[0;34m\"owl\"\u001b[0m\u001b[0;34m)\u001b[0m\u001b[0;34m\u001b[0m\u001b[0;34m\u001b[0m\u001b[0m\n\u001b[0m",
      "\u001b[0;32m/Library/Frameworks/Python.framework/Versions/3.8/lib/python3.8/site-packages/pronto/ontology.py\u001b[0m in \u001b[0;36mdump\u001b[0;34m(self, file, format)\u001b[0m\n\u001b[1;32m    325\u001b[0m                 \u001b[0;32mbreak\u001b[0m\u001b[0;34m\u001b[0m\u001b[0;34m\u001b[0m\u001b[0m\n\u001b[1;32m    326\u001b[0m         \u001b[0;32melse\u001b[0m\u001b[0;34m:\u001b[0m\u001b[0;34m\u001b[0m\u001b[0;34m\u001b[0m\u001b[0m\n\u001b[0;32m--> 327\u001b[0;31m             \u001b[0;32mraise\u001b[0m \u001b[0mValueError\u001b[0m\u001b[0;34m(\u001b[0m\u001b[0;34mf\"could not find a serializer to handle {format!r}\"\u001b[0m\u001b[0;34m)\u001b[0m\u001b[0;34m\u001b[0m\u001b[0;34m\u001b[0m\u001b[0m\n\u001b[0m\u001b[1;32m    328\u001b[0m \u001b[0;34m\u001b[0m\u001b[0m\n\u001b[1;32m    329\u001b[0m     \u001b[0;32mdef\u001b[0m \u001b[0mdumps\u001b[0m\u001b[0;34m(\u001b[0m\u001b[0mself\u001b[0m\u001b[0;34m,\u001b[0m \u001b[0mformat\u001b[0m\u001b[0;34m:\u001b[0m \u001b[0mstr\u001b[0m \u001b[0;34m=\u001b[0m \u001b[0;34m\"obo\"\u001b[0m\u001b[0;34m)\u001b[0m \u001b[0;34m->\u001b[0m \u001b[0mstr\u001b[0m\u001b[0;34m:\u001b[0m\u001b[0;34m\u001b[0m\u001b[0;34m\u001b[0m\u001b[0m\n",
      "\u001b[0;31mValueError\u001b[0m: could not find a serializer to handle 'owl'"
     ]
    }
   ],
   "source": [
    "with open(\"addicto_modified.owl\", \"wb\") as f:\n",
    "    addicto.dump(f, format=\"owl\")"
   ]
  },
  {
   "cell_type": "markdown",
   "metadata": {},
   "source": [
    "# PyHornedOWL\n",
    "\n",
    "(very experimental)"
   ]
  },
  {
   "cell_type": "code",
   "execution_count": 11,
   "metadata": {},
   "outputs": [],
   "source": [
    "import pyhornedowl\n",
    "\n",
    "onto = pyhornedowl.open_ontology(\"addicto-merged.owx\")"
   ]
  },
  {
   "cell_type": "code",
   "execution_count": 12,
   "metadata": {},
   "outputs": [
    {
     "name": "stdout",
     "output_type": "stream",
     "text": [
      "['http://addictovocab.org/ADDICTO_0000873', 'http://addictovocab.org/ADDICTO_0000884', 'http://purl.obolibrary.org/obo/ENVO_00010483', 'http://purl.obolibrary.org/obo/OBCS_0000218', 'http://addictovocab.org/ADDICTO_0000141', 'http://addictovocab.org/ADDICTO_0000805', 'http://addictovocab.org/ADDICTO_0000207', 'http://addictovocab.org/ADDICTO_0000817', 'http://addictovocab.org/ADDICTO_0000455', 'http://addictovocab.org/ADDICTO_0000478']\n"
     ]
    },
    {
     "data": {
      "text/plain": [
       "[['SubClassOf',\n",
       "  'http://addictovocab.org/ADDICTO_0000101',\n",
       "  'http://addictovocab.org/ADDICTO_0000697'],\n",
       " ['AnnotationAssertion',\n",
       "  'http://addictovocab.org/ADDICTO_0000101',\n",
       "  'http://purl.obolibrary.org/obo/IAO_0000115',\n",
       "  'Point prevalence tobacco smoking abstinence that lasts for 7 days prior to a time point.'],\n",
       " ['AnnotationAssertion',\n",
       "  'http://addictovocab.org/ADDICTO_0000101',\n",
       "  'http://www.w3.org/2000/01/rdf-schema#label',\n",
       "  '7-day point prevalence tobacco smoking abstinence'],\n",
       " ['DeclareClass', 'http://addictovocab.org/ADDICTO_0000104'],\n",
       " ['SubClassOf',\n",
       "  'http://addictovocab.org/ADDICTO_0000104',\n",
       "  'http://humanbehaviourchange.org/ontology/BCIO_042000'],\n",
       " ['AnnotationAssertion',\n",
       "  'http://addictovocab.org/ADDICTO_0000104',\n",
       "  'http://purl.obolibrary.org/obo/IAO_0000115',\n",
       "  'The behaviour of not performing a behaviour of a particular type.'],\n",
       " ['AnnotationAssertion',\n",
       "  'http://addictovocab.org/ADDICTO_0000104',\n",
       "  'http://www.w3.org/2000/01/rdf-schema#comment',\n",
       "  'Abstinence only has any meaning when specifying what the behaviour is that the person is not doing.'],\n",
       " ['AnnotationAssertion',\n",
       "  'http://addictovocab.org/ADDICTO_0000104',\n",
       "  'http://www.w3.org/2000/01/rdf-schema#label',\n",
       "  'abstinence'],\n",
       " ['DeclareClass', 'http://addictovocab.org/ADDICTO_0000105']]"
      ]
     },
     "execution_count": 12,
     "metadata": {},
     "output_type": "execute_result"
    }
   ],
   "source": [
    "classes = onto.get_classes()\n",
    "axioms = onto.get_axioms()\n",
    "\n",
    "import itertools\n",
    "print([c for c in itertools.islice(classes,10)])\n",
    "\n",
    "axioms[1:10]"
   ]
  },
  {
   "cell_type": "markdown",
   "metadata": {},
   "source": [
    "## Ancestors and Descendents"
   ]
  },
  {
   "cell_type": "code",
   "execution_count": 13,
   "metadata": {},
   "outputs": [
    {
     "name": "stdout",
     "output_type": "stream",
     "text": [
      "Got ancestors {'http://purl.obolibrary.org/obo/BFO_0000002', 'http://purl.obolibrary.org/obo/OGMS_0000087', 'http://addictovocab.org/ADDICTO_0000405', 'http://addictovocab.org/ADDICTO_0000849', 'http://purl.obolibrary.org/obo/BFO_0000004', 'http://purl.obolibrary.org/obo/BFO_0000001', 'http://www.w3.org/2002/07/owl#Thing', 'http://purl.obolibrary.org/obo/BFO_0000040', 'http://purl.obolibrary.org/obo/MF_0000016'} for class http://addictovocab.org/ADDICTO_0000405\n",
      "Getting labels for IRIs\n",
      "5\n"
     ]
    }
   ],
   "source": [
    "clssid = onto.get_iri_for_label(\"tobacco smoker\")\n",
    "RDFSLABEL = \"http://www.w3.org/2000/01/rdf-schema#label\"\n",
    "\n",
    "ancestors = pyhornedowl.get_ancestors(onto,clssid)\n",
    "print(f\"Got ancestors {ancestors} for class {clssid}\")\n",
    "\n",
    "print(\"Getting labels for IRIs\")\n",
    "descs = pyhornedowl.get_descendants(onto,onto.get_iri_for_label('identity'))\n",
    "desc_names = [onto.get_annotation(d,RDFSLABEL) for d in descs]\n",
    "print(len(desc_names))\n"
   ]
  },
  {
   "cell_type": "markdown",
   "metadata": {},
   "source": [
    "## Update Ontology"
   ]
  },
  {
   "cell_type": "code",
   "execution_count": 14,
   "metadata": {},
   "outputs": [
    {
     "name": "stdout",
     "output_type": "stream",
     "text": [
      "Ontology has 7156 axioms.\n",
      "Ontology now has 7159 axioms.\n",
      "Axioms for class http://addictovocab.org/ADDICTO_0000405 are: [['DeclareClass', 'http://addictovocab.org/ADDICTO_0000405'], ['SubClassOf', 'http://addictovocab.org/ADDICTO_0000405', 'http://addictovocab.org/ADDICTO_0000849'], ['SubClassOf', 'http://addictovocab.org/ADDICTO_0000405', 'http://testing.testing'], ['SubClassOf', 'http://addictovocab.org/ADDICTO_0000405', ['ObjectSomeValuesFrom', 'http://test-op', 'http://test-ob-target']], ['AnnotationAssertion', 'http://addictovocab.org/ADDICTO_0000405', 'http://purl.obolibrary.org/obo/IAO_0000115', 'A psychoactive substance user who participates in tobacco smoking.'], ['AnnotationAssertion', 'http://addictovocab.org/ADDICTO_0000405', 'http://purl.obolibrary.org/obo/IAO_0000118', ' Smoker'], ['AnnotationAssertion', 'http://addictovocab.org/ADDICTO_0000405', 'http://purl.obolibrary.org/obo/IAO_0000118', ' daily smoker'], ['AnnotationAssertion', 'http://addictovocab.org/ADDICTO_0000405', 'http://purl.obolibrary.org/obo/IAO_0000118', 'Cigarette smoker'], ['AnnotationAssertion', 'http://addictovocab.org/ADDICTO_0000405', 'http://test_annotation', 'Testing Added Annotation Value'], ['AnnotationAssertion', 'http://addictovocab.org/ADDICTO_0000405', 'http://www.w3.org/2000/01/rdf-schema#comment', 'This refers to a current time frame for participation. This should be specified unless it is obvious from context.'], ['AnnotationAssertion', 'http://addictovocab.org/ADDICTO_0000405', 'http://www.w3.org/2000/01/rdf-schema#label', 'tobacco smoker']]\n"
     ]
    }
   ],
   "source": [
    "print(f\"Ontology has {len(onto.get_axioms())} axioms.\")\n",
    "\n",
    "onto.add_axiom(['SubClassOf',clssid,'http://testing.testing'])\n",
    "\n",
    "onto.add_axiom(['AnnotationAssertion', clssid, 'http://test_annotation', 'Testing Added Annotation Value'])\n",
    "\n",
    "onto.add_axiom(['SubClassOf', clssid, ['ObjectSomeValuesFrom', 'http://test-op', 'http://test-ob-target']])\n",
    "\n",
    "print (f\"Ontology now has {len(onto.get_axioms())} axioms.\")\n",
    "\n",
    "print (f\"Axioms for class {clssid} are: {onto.get_axioms_for_iri(clssid)}\")\n",
    "       "
   ]
  },
  {
   "cell_type": "markdown",
   "metadata": {},
   "source": [
    "# Performance Comparison \n",
    "\n",
    "We can check the performance of the different libraries when loading a typically large bio-ontology such as ChEBI. \n",
    "\n",
    "## OWLReady2\n"
   ]
  },
  {
   "cell_type": "code",
   "execution_count": 36,
   "metadata": {},
   "outputs": [
    {
     "name": "stdout",
     "output_type": "stream",
     "text": [
      "CPU times: user 51.7 s, sys: 1.52 s, total: 53.3 s\n",
      "Wall time: 1min\n"
     ]
    }
   ],
   "source": [
    "%%time\n",
    "\n",
    "onto = get_ontology(\"chebi_core.owx\").load()"
   ]
  },
  {
   "cell_type": "markdown",
   "metadata": {},
   "source": [
    "## Pronto"
   ]
  },
  {
   "cell_type": "code",
   "execution_count": 37,
   "metadata": {},
   "outputs": [
    {
     "name": "stdout",
     "output_type": "stream",
     "text": [
      "CPU times: user 41.2 s, sys: 1.54 s, total: 42.7 s\n",
      "Wall time: 31.7 s\n"
     ]
    }
   ],
   "source": [
    "%%time\n",
    "\n",
    "onto2 = pronto.Ontology('chebi_core.obo')\n",
    "\n"
   ]
  },
  {
   "cell_type": "markdown",
   "metadata": {},
   "source": [
    "## OntoBio"
   ]
  },
  {
   "cell_type": "code",
   "execution_count": 38,
   "metadata": {},
   "outputs": [
    {
     "name": "stdout",
     "output_type": "stream",
     "text": [
      "CPU times: user 5min 32s, sys: 4.2 s, total: 5min 36s\n",
      "Wall time: 7min\n"
     ]
    }
   ],
   "source": [
    "%%time\n",
    "\n",
    "ont = ofactory.create(\"chebi_core.obo\")"
   ]
  },
  {
   "cell_type": "markdown",
   "metadata": {},
   "source": [
    "## PyHornedOWL"
   ]
  },
  {
   "cell_type": "code",
   "execution_count": 1,
   "metadata": {},
   "outputs": [
    {
     "name": "stdout",
     "output_type": "stream",
     "text": [
      "CPU times: user 32.3 s, sys: 1.84 s, total: 34.1 s\n",
      "Wall time: 38.7 s\n"
     ]
    }
   ],
   "source": [
    "%%time\n",
    "\n",
    "ont = pyhornedowl.open_ontology(\"chebi_core.owx\")"
   ]
  },
  {
   "cell_type": "markdown",
   "metadata": {},
   "source": [
    "# Summary\n",
    "\n",
    "\n",
    "1. OWLReady2 is the only library that really uses OWL and gives access to OWL reasoning. But it has a rather radical \"ontology programming\" approach, and  does not work well with metadata. \n",
    "2. OntoBio and Pronto both work from OBO format and work from a graph ontology model. They say they support OWL, but I couldn't get them to work for an OWL file in practice.\n",
    "3. OntoBio is slow and clunky with a weird metadata accessor approach, and it is a bit delicate. But, it has some cool features. \n",
    "4. Pronto is fast and relatively stable. \n",
    "5. PyHornedOWL is as fast as Pronto and gives (lightweight) access to OWL axioms. (Although the implementation is far from complete)\n"
   ]
  }
 ],
 "metadata": {
  "kernelspec": {
   "display_name": "Python 3",
   "language": "python",
   "name": "python3"
  },
  "language_info": {
   "codemirror_mode": {
    "name": "ipython",
    "version": 3
   },
   "file_extension": ".py",
   "mimetype": "text/x-python",
   "name": "python",
   "nbconvert_exporter": "python",
   "pygments_lexer": "ipython3",
   "version": "3.8.1"
  }
 },
 "nbformat": 4,
 "nbformat_minor": 4
}
