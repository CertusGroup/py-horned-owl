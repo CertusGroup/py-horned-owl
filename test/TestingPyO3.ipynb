{
 "cells": [
  {
   "cell_type": "code",
   "execution_count": 1,
   "metadata": {},
   "outputs": [],
   "source": [
    "import itertools\n",
    "import pyhornedowl"
   ]
  },
  {
   "cell_type": "markdown",
   "metadata": {},
   "source": [
    "## Open an ontology\n",
    "\n",
    "\n",
    "\n"
   ]
  },
  {
   "cell_type": "code",
   "execution_count": 2,
   "metadata": {},
   "outputs": [
    {
     "name": "stdout",
     "output_type": "stream",
     "text": [
      "Loaded ontology has 185295 classes.\n",
      "Loaded ontology has 2369426 axioms.\n",
      "CPU times: user 26.8 s, sys: 1.26 s, total: 28.1 s\n",
      "Wall time: 28.2 s\n"
     ]
    }
   ],
   "source": [
    "%%time\n",
    "\n",
    "onto = pyhornedowl.open_ontology(\"chebi_core.owl\")\n",
    "\n",
    "print (f\"Loaded ontology has {len(onto.get_classes())} classes.\")\n",
    "print (f\"Loaded ontology has {len(onto.get_axioms())} axioms.\")\n"
   ]
  },
  {
   "cell_type": "markdown",
   "metadata": {},
   "source": [
    "## Explore content"
   ]
  },
  {
   "cell_type": "markdown",
   "metadata": {},
   "source": [
    "### Annotations and IDs"
   ]
  },
  {
   "cell_type": "code",
   "execution_count": 7,
   "metadata": {},
   "outputs": [
    {
     "name": "stdout",
     "output_type": "stream",
     "text": [
      "Got IRI: http://purl.obolibrary.org/obo/CHEBI_27732 for label 'caffeine'.\n",
      "Got label: 'caffeine' for IRI http://purl.obolibrary.org/obo/CHEBI_27732.\n",
      "Got definition 'A trimethylxanthine in which the three methyl groups are located at positions 1, 3, and 7. A purine alkaloid that occurs naturally in tea and coffee.' for IRI http://purl.obolibrary.org/obo/CHEBI_27732\n",
      "Got ID CHEBI:27732 for IRI http://purl.obolibrary.org/obo/CHEBI_27732\n",
      "Got IRI: http://purl.obolibrary.org/obo/CHEBI_30887 for label 'isocitric acid'.\n",
      "Got label: 'isocitric acid' for IRI http://purl.obolibrary.org/obo/CHEBI_30887.\n",
      "Got definition 'A tricarboxylic acid that is propan-1-ol with a hydrogen at each of the 3 carbon positions replaced by a carboxy group.' for IRI http://purl.obolibrary.org/obo/CHEBI_30887\n",
      "Got ID CHEBI:30887 for IRI http://purl.obolibrary.org/obo/CHEBI_30887\n",
      "Got IRI: http://purl.obolibrary.org/obo/chebi#is_enantiomer_of for label 'is enantiomer of'.\n",
      "Got label: 'is enantiomer of' for IRI http://purl.obolibrary.org/obo/chebi#is_enantiomer_of.\n",
      "Got definition 'None' for IRI http://purl.obolibrary.org/obo/chebi#is_enantiomer_of\n",
      "Got ID None for IRI http://purl.obolibrary.org/obo/chebi#is_enantiomer_of\n",
      "CPU times: user 357 µs, sys: 541 µs, total: 898 µs\n",
      "Wall time: 928 µs\n"
     ]
    }
   ],
   "source": [
    "%%time\n",
    "\n",
    "RDFSLABEL = \"http://www.w3.org/2000/01/rdf-schema#label\"\n",
    "DEFN = \"http://purl.obolibrary.org/obo/IAO_0000115\"\n",
    "\n",
    "# add a prefix mapping\n",
    "onto.add_prefix_mapping(\"CHEBI\",\"http://purl.obolibrary.org/obo/CHEBI_\")\n",
    "\n",
    "for label in [\"caffeine\",\"isocitric acid\",\"is enantiomer of\"]:\n",
    "    iri = onto.get_iri_for_label(label)\n",
    "    print(f\"Got IRI: {iri} for label '{label}'.\")\n",
    "    print(f\"Got label: '{onto.get_annotation(iri,RDFSLABEL)}' for IRI {iri}.\")\n",
    "    print(f\"Got definition '{onto.get_annotation(iri,DEFN)}' for IRI {iri}\")\n",
    "    id = onto.get_id_for_iri(iri)\n",
    "    print(f\"Got ID {id} for IRI {iri}\")\n",
    "    "
   ]
  },
  {
   "cell_type": "markdown",
   "metadata": {},
   "source": [
    "### Subclasses and descendents"
   ]
  },
  {
   "cell_type": "code",
   "execution_count": 8,
   "metadata": {},
   "outputs": [
    {
     "name": "stdout",
     "output_type": "stream",
     "text": [
      "Got 1589 descendents for class http://purl.obolibrary.org/obo/CHEBI_23849, which has 628 direct subclasses. Showing first 5: \n",
      "Descendent: '4-Keto-4'-hydroxyalloxanthin', IRI: http://purl.obolibrary.org/obo/CHEBI_185779\n",
      "Descendent: 'gibberellin A3', IRI: http://purl.obolibrary.org/obo/CHEBI_28833\n",
      "Descendent: 'Rabdoternin E', IRI: http://purl.obolibrary.org/obo/CHEBI_67680\n",
      "Descendent: '19-(3-methyl-butanoyloxy)-villanovane-13alpha,17-diol', IRI: http://purl.obolibrary.org/obo/CHEBI_194566\n",
      "Descendent: 'dehydroabietic acid', IRI: http://purl.obolibrary.org/obo/CHEBI_29571\n",
      "CPU times: user 1.2 ms, sys: 389 µs, total: 1.59 ms\n",
      "Wall time: 1.59 ms\n"
     ]
    }
   ],
   "source": [
    "%%time\n",
    "\n",
    "parent_label = \"diterpenoid\"\n",
    "parent_iri = onto.get_iri_for_label(parent_label)\n",
    "\n",
    "descs = pyhornedowl.get_descendants(onto,parent_iri)\n",
    "\n",
    "print(f\"Got {len(descs)} descendents for class {parent_iri}, which has {len(onto.get_subclasses(parent_iri))} direct subclasses. Showing first 5: \")\n",
    "\n",
    "for desc in itertools.islice(descs, 5): \n",
    "    print(f\"Descendent: '{onto.get_annotation(desc,RDFSLABEL)}', IRI: {desc}\")"
   ]
  },
  {
   "cell_type": "markdown",
   "metadata": {},
   "source": [
    "### Superclasses and ancestors\n"
   ]
  },
  {
   "cell_type": "code",
   "execution_count": 9,
   "metadata": {},
   "outputs": [
    {
     "name": "stdout",
     "output_type": "stream",
     "text": [
      "Got 34 ancestors for class http://purl.obolibrary.org/obo/CHEBI_27732       which has 2 direct superclasses. Showing first 5:\n",
      "Ancestor: 'chemical entity', IRI: http://purl.obolibrary.org/obo/CHEBI_24431\n",
      "Ancestor: 'heterocyclic compound', IRI: http://purl.obolibrary.org/obo/CHEBI_5686\n",
      "Ancestor: 'p-block molecular entity', IRI: http://purl.obolibrary.org/obo/CHEBI_33675\n",
      "Ancestor: 'heteropolycyclic compound', IRI: http://purl.obolibrary.org/obo/CHEBI_33671\n",
      "Ancestor: 'organic heterobicyclic compound', IRI: http://purl.obolibrary.org/obo/CHEBI_27171\n",
      "CPU times: user 243 µs, sys: 141 µs, total: 384 µs\n",
      "Wall time: 426 µs\n"
     ]
    }
   ],
   "source": [
    "%%time\n",
    "\n",
    "child_label = \"caffeine\"\n",
    "child_iri = onto.get_iri_for_label(child_label)\n",
    "\n",
    "ancs = pyhornedowl.get_ancestors(onto,child_iri)\n",
    "\n",
    "print(f\"Got {len(ancs)} ancestors for class {child_iri} \\\n",
    "      which has {len(onto.get_superclasses(child_iri))} direct superclasses. Showing first 5:\")\n",
    "\n",
    "for anc in itertools.islice(ancs, 5): \n",
    "    print(f\"Ancestor: '{onto.get_annotation(anc,RDFSLABEL)}', IRI: {anc}\")\n",
    "\n",
    "\n"
   ]
  },
  {
   "cell_type": "markdown",
   "metadata": {},
   "source": [
    "## Working with axioms"
   ]
  },
  {
   "cell_type": "markdown",
   "metadata": {},
   "source": [
    "### Annotations\n"
   ]
  },
  {
   "cell_type": "code",
   "execution_count": 4,
   "metadata": {},
   "outputs": [
    {
     "name": "stdout",
     "output_type": "stream",
     "text": [
      "Getting all classes with charge and no smiles\n",
      "The ontology has 2129 classes with charge and no smiles.\n",
      "CPU times: user 5.83 s, sys: 5.5 s, total: 11.3 s\n",
      "Wall time: 11.3 s\n"
     ]
    },
    {
     "data": {
      "text/plain": [
       "(154966, 152853)"
      ]
     },
     "execution_count": 4,
     "metadata": {},
     "output_type": "execute_result"
    }
   ],
   "source": [
    "%%time\n",
    "\n",
    "SMILES = \"http://purl.obolibrary.org/obo/chebi/smiles\"\n",
    "CHARGE = \"http://purl.obolibrary.org/obo/chebi/charge\"\n",
    "\n",
    "print (f\"Getting all classes with charge and no smiles\")\n",
    "# Get all classes with asserted charge but no smiles\n",
    "classes_with_charge = set()\n",
    "classes_with_smiles = set()\n",
    "i = 0\n",
    "j = 0\n",
    "for a in onto.get_axioms():\n",
    "    #Example: ['AnnotationAssertion', 'http://purl.obolibrary.org/obo/CHEBI_27732', 'http://www.geneontology.org/formats/oboInOwl#hasAlternativeId', 'CHEBI:41472']\n",
    "    if isinstance(a.axiom, pyhornedowl.model.AnnotationAssertion):\n",
    "\n",
    "        if str(a.axiom.ann.ap.inner) == CHARGE:\n",
    "            chg = str(a.axiom.ann.av)\n",
    "            classes_with_charge.add(str(a.axiom.subject))\n",
    "            i += 1\n",
    "        if str(a.axiom.ann.ap.inner)==SMILES:\n",
    "            smls = str(a.axiom.ann.av)\n",
    "            classes_with_smiles.add(str(a.axiom.subject))\n",
    "            j += 1\n",
    "classes_with_charge_no_smiles = [c for c in classes_with_charge if c not in classes_with_smiles]\n",
    "print(f\"The ontology has {len(classes_with_charge_no_smiles)} classes with charge and no smiles.\")\n",
    "\n",
    "(i,j)"
   ]
  },
  {
   "cell_type": "markdown",
   "metadata": {},
   "source": [
    "### Object properties"
   ]
  },
  {
   "cell_type": "code",
   "execution_count": 6,
   "metadata": {},
   "outputs": [
    {
     "name": "stdout",
     "output_type": "stream",
     "text": [
      "Getting all asserted part relations\n"
     ]
    },
    {
     "ename": "AttributeError",
     "evalue": "module 'model' has no attribute 'ClassExpression_ObjectSomeValuesFrom'",
     "output_type": "error",
     "traceback": [
      "\u001b[0;31m---------------------------------------------------------------------------\u001b[0m",
      "\u001b[0;31mAttributeError\u001b[0m                            Traceback (most recent call last)",
      "File \u001b[0;32m<timed exec>:9\u001b[0m\n",
      "\u001b[0;31mAttributeError\u001b[0m: module 'model' has no attribute 'ClassExpression_ObjectSomeValuesFrom'"
     ]
    }
   ],
   "source": [
    "%%time\n",
    "\n",
    "HAS_PART = \"http://purl.obolibrary.org/obo/BFO_0000051\"\n",
    "\n",
    "# Get all the asserted parts:\n",
    "print(\"Getting all asserted part relations\")\n",
    "asserted_parts = set() # Will hold tuples\n",
    "for a in onto.get_axioms():\n",
    "    # Example: ['SubClassOf', 'http://purl.obolibrary.org/obo/CHEBI_27732', ['ObjectSomeValuesFrom', 'http://purl.obolibrary.org/obo/RO_0000087', 'http://purl.obolibrary.org/obo/CHEBI_85234']]\n",
    "    if isinstance(a.axiom, pyhornedowl.model.SubClassOf) and \\\n",
    "      isinstance(a.axiom.sup, pyhornedowl.model.ClassExpression_ObjectSomeValuesFrom) and \\\n",
    "      str(a.axiom.sup.ope) ==HAS_PART:\n",
    "        asserted_parts.add((a.axiom.sub,a.axiom.sup.bce))\n",
    "\n",
    "print(f\"There are {len(asserted_parts)} parthood relations asserted in ChEBI.\")\n",
    "\n"
   ]
  },
  {
   "cell_type": "markdown",
   "metadata": {},
   "source": [
    "## Modifying the ontology"
   ]
  },
  {
   "cell_type": "code",
   "execution_count": 9,
   "metadata": {},
   "outputs": [
    {
     "name": "stdout",
     "output_type": "stream",
     "text": [
      "Ontology now has 1965686 axioms.\n",
      "Removing one axiom\n",
      "Ontology now has 1965685 axioms.\n",
      "Adding a complex axiom\n",
      "Ontology now has 1965687 axioms.\n",
      "Class http://purl.obolibrary.org/obo/CHEBI_27732 (caffeine) has axioms: [['DeclareClass', 'http://purl.obolibrary.org/obo/CHEBI_27732'], ['SubClassOf', 'http://purl.obolibrary.org/obo/CHEBI_27732', 'http://purl.obolibrary.org/obo/CHEBI_26385'], ['SubClassOf', 'http://purl.obolibrary.org/obo/CHEBI_27732', 'http://testing.testing'], ['SubClassOf', 'http://purl.obolibrary.org/obo/CHEBI_27732', ['ObjectIntersectionOf', 'http://purl.obolibrary.org/obo/CHEBI_27134', 'http://test-ob-target']], ['SubClassOf', 'http://purl.obolibrary.org/obo/CHEBI_27732', ['ObjectSomeValuesFrom', 'http://purl.obolibrary.org/obo/RO_0000087', 'http://purl.obolibrary.org/obo/CHEBI_25435']], ['SubClassOf', 'http://purl.obolibrary.org/obo/CHEBI_27732', ['ObjectSomeValuesFrom', 'http://purl.obolibrary.org/obo/RO_0000087', 'http://purl.obolibrary.org/obo/CHEBI_35337']], ['SubClassOf', 'http://purl.obolibrary.org/obo/CHEBI_27732', ['ObjectSomeValuesFrom', 'http://purl.obolibrary.org/obo/RO_0000087', 'http://purl.obolibrary.org/obo/CHEBI_35471']], ['SubClassOf', 'http://purl.obolibrary.org/obo/CHEBI_27732', ['ObjectSomeValuesFrom', 'http://purl.obolibrary.org/obo/RO_0000087', 'http://purl.obolibrary.org/obo/CHEBI_35498']], ['SubClassOf', 'http://purl.obolibrary.org/obo/CHEBI_27732', ['ObjectSomeValuesFrom', 'http://purl.obolibrary.org/obo/RO_0000087', 'http://purl.obolibrary.org/obo/CHEBI_35703']], ['SubClassOf', 'http://purl.obolibrary.org/obo/CHEBI_27732', ['ObjectSomeValuesFrom', 'http://purl.obolibrary.org/obo/RO_0000087', 'http://purl.obolibrary.org/obo/CHEBI_50218']], ['SubClassOf', 'http://purl.obolibrary.org/obo/CHEBI_27732', ['ObjectSomeValuesFrom', 'http://purl.obolibrary.org/obo/RO_0000087', 'http://purl.obolibrary.org/obo/CHEBI_50925']], ['SubClassOf', 'http://purl.obolibrary.org/obo/CHEBI_27732', ['ObjectSomeValuesFrom', 'http://purl.obolibrary.org/obo/RO_0000087', 'http://purl.obolibrary.org/obo/CHEBI_53121']], ['SubClassOf', 'http://purl.obolibrary.org/obo/CHEBI_27732', ['ObjectSomeValuesFrom', 'http://purl.obolibrary.org/obo/RO_0000087', 'http://purl.obolibrary.org/obo/CHEBI_60809']], ['SubClassOf', 'http://purl.obolibrary.org/obo/CHEBI_27732', ['ObjectSomeValuesFrom', 'http://purl.obolibrary.org/obo/RO_0000087', 'http://purl.obolibrary.org/obo/CHEBI_64047']], ['SubClassOf', 'http://purl.obolibrary.org/obo/CHEBI_27732', ['ObjectSomeValuesFrom', 'http://purl.obolibrary.org/obo/RO_0000087', 'http://purl.obolibrary.org/obo/CHEBI_67114']], ['SubClassOf', 'http://purl.obolibrary.org/obo/CHEBI_27732', ['ObjectSomeValuesFrom', 'http://purl.obolibrary.org/obo/RO_0000087', 'http://purl.obolibrary.org/obo/CHEBI_71232']], ['SubClassOf', 'http://purl.obolibrary.org/obo/CHEBI_27732', ['ObjectSomeValuesFrom', 'http://purl.obolibrary.org/obo/RO_0000087', 'http://purl.obolibrary.org/obo/CHEBI_75771']], ['SubClassOf', 'http://purl.obolibrary.org/obo/CHEBI_27732', ['ObjectSomeValuesFrom', 'http://purl.obolibrary.org/obo/RO_0000087', 'http://purl.obolibrary.org/obo/CHEBI_76924']], ['SubClassOf', 'http://purl.obolibrary.org/obo/CHEBI_27732', ['ObjectSomeValuesFrom', 'http://purl.obolibrary.org/obo/RO_0000087', 'http://purl.obolibrary.org/obo/CHEBI_76946']], ['SubClassOf', 'http://purl.obolibrary.org/obo/CHEBI_27732', ['ObjectSomeValuesFrom', 'http://purl.obolibrary.org/obo/RO_0000087', 'http://purl.obolibrary.org/obo/CHEBI_78298']], ['SubClassOf', 'http://purl.obolibrary.org/obo/CHEBI_27732', ['ObjectSomeValuesFrom', 'http://purl.obolibrary.org/obo/RO_0000087', 'http://purl.obolibrary.org/obo/CHEBI_85234']], ['SubClassOf', 'http://purl.obolibrary.org/obo/CHEBI_27732', ['ObjectSomeValuesFrom', 'http://test-op', 'http://test-ob-target']], ['AnnotationAssertion', 'http://purl.obolibrary.org/obo/CHEBI_27732', 'http://purl.obolibrary.org/obo/IAO_0000115', 'A trimethylxanthine in which the three methyl groups are located at positions 1, 3, and 7. A purine alkaloid that occurs naturally in tea and coffee.'], ['AnnotationAssertion', 'http://purl.obolibrary.org/obo/CHEBI_27732', 'http://purl.obolibrary.org/obo/chebi/charge', '0'], ['AnnotationAssertion', 'http://purl.obolibrary.org/obo/CHEBI_27732', 'http://purl.obolibrary.org/obo/chebi/formula', 'C8H10N4O2'], ['AnnotationAssertion', 'http://purl.obolibrary.org/obo/CHEBI_27732', 'http://purl.obolibrary.org/obo/chebi/inchi', 'InChI=1S/C8H10N4O2/c1-10-4-9-6-5(10)7(13)12(3)8(14)11(6)2/h4H,1-3H3'], ['AnnotationAssertion', 'http://purl.obolibrary.org/obo/CHEBI_27732', 'http://purl.obolibrary.org/obo/chebi/inchikey', 'RYYVLZVUVIJVGH-UHFFFAOYSA-N'], ['AnnotationAssertion', 'http://purl.obolibrary.org/obo/CHEBI_27732', 'http://purl.obolibrary.org/obo/chebi/mass', '194.19076'], ['AnnotationAssertion', 'http://purl.obolibrary.org/obo/CHEBI_27732', 'http://purl.obolibrary.org/obo/chebi/monoisotopicmass', '194.08038'], ['AnnotationAssertion', 'http://purl.obolibrary.org/obo/CHEBI_27732', 'http://purl.obolibrary.org/obo/chebi/smiles', 'Cn1cnc2n(C)c(=O)n(C)c(=O)c12'], ['AnnotationAssertion', 'http://purl.obolibrary.org/obo/CHEBI_27732', 'http://test_annotation', 'Testing Added Annotation Value'], ['AnnotationAssertion', 'http://purl.obolibrary.org/obo/CHEBI_27732', 'http://www.geneontology.org/formats/oboInOwl#hasAlternativeId', 'CHEBI:22982'], ['AnnotationAssertion', 'http://purl.obolibrary.org/obo/CHEBI_27732', 'http://www.geneontology.org/formats/oboInOwl#hasAlternativeId', 'CHEBI:3295'], ['AnnotationAssertion', 'http://purl.obolibrary.org/obo/CHEBI_27732', 'http://www.geneontology.org/formats/oboInOwl#hasAlternativeId', 'CHEBI:41472'], ['AnnotationAssertion', 'http://purl.obolibrary.org/obo/CHEBI_27732', 'http://www.geneontology.org/formats/oboInOwl#hasOBONamespace', 'chebi_ontology'], ['AnnotationAssertion', 'http://purl.obolibrary.org/obo/CHEBI_27732', 'http://www.geneontology.org/formats/oboInOwl#id', 'CHEBI:27732'], ['AnnotationAssertion', 'http://purl.obolibrary.org/obo/CHEBI_27732', 'http://www.geneontology.org/formats/oboInOwl#inSubset', 'http://purl.obolibrary.org/obo/chebi#3_STAR'], ['AnnotationAssertion', 'http://purl.obolibrary.org/obo/CHEBI_27732', 'http://www.w3.org/2000/01/rdf-schema#label', 'caffeine']]\n",
      "CPU times: user 16.1 s, sys: 461 ms, total: 16.6 s\n",
      "Wall time: 17.7 s\n"
     ]
    }
   ],
   "source": [
    "%%time\n",
    "\n",
    "clssname = \"caffeine\"\n",
    "clssid = onto.get_iri_for_label(clssname)\n",
    "\n",
    "onto.add_axiom(['SubClassOf',clssid,'http://testing.testing'])\n",
    "onto.add_axiom(['AnnotationAssertion', 'http://purl.obolibrary.org/obo/CHEBI_27732', 'http://test_annotation', 'Testing Added Annotation Value'])\n",
    "print (f\"Ontology now has {len(onto.get_axioms())} axioms.\")\n",
    "\n",
    "print (\"Removing one axiom\")\n",
    "onto.remove_axiom(['SubClassOf', 'http://purl.obolibrary.org/obo/CHEBI_27732', 'http://purl.obolibrary.org/obo/CHEBI_27134'])\n",
    "print (f\"Ontology now has {len(onto.get_axioms())} axioms.\")\n",
    "\n",
    "print (\"Adding a complex axiom\")\n",
    "\n",
    "onto.add_axiom(['SubClassOf', 'http://purl.obolibrary.org/obo/CHEBI_27732', ['ObjectSomeValuesFrom', 'http://test-op', 'http://test-ob-target']])\n",
    "\n",
    "onto.add_axiom(['SubClassOf', 'http://purl.obolibrary.org/obo/CHEBI_27732', ['ObjectIntersectionOf', 'http://purl.obolibrary.org/obo/CHEBI_27134', 'http://test-ob-target']])\n",
    "\n",
    "\n",
    "print (f\"Ontology now has {len(onto.get_axioms())} axioms.\")\n",
    "\n",
    "print(f\"Class {clssid} ({clssname}) has axioms: {onto.get_axioms_for_iri(clssid)}\")\n"
   ]
  },
  {
   "cell_type": "markdown",
   "metadata": {},
   "source": [
    "## Saving an ontology"
   ]
  },
  {
   "cell_type": "code",
   "execution_count": 28,
   "metadata": {},
   "outputs": [
    {
     "name": "stdout",
     "output_type": "stream",
     "text": [
      "CPU times: user 30.9 s, sys: 4min 17s, total: 4min 48s\n",
      "Wall time: 5min 15s\n"
     ]
    }
   ],
   "source": [
    "%%time\n",
    "\n",
    "onto.save_to_file(\"chebi-updated.owx\")"
   ]
  },
  {
   "cell_type": "markdown",
   "metadata": {},
   "source": [
    "## Opening an ontology from a string downloaded from a URL\n"
   ]
  },
  {
   "cell_type": "code",
   "execution_count": 10,
   "metadata": {},
   "outputs": [
    {
     "name": "stdout",
     "output_type": "stream",
     "text": [
      "Loaded ontology has 772 classes.\n",
      "Loaded ontology has 7251 axioms.\n",
      "CPU times: user 151 ms, sys: 38.2 ms, total: 189 ms\n",
      "Wall time: 1.18 s\n"
     ]
    }
   ],
   "source": [
    "%%time\n",
    "\n",
    "from urllib.request import urlopen\n",
    "\n",
    "ontourl = \"https://raw.githubusercontent.com/addicto-org/addiction-ontology/master/addicto-merged.owx\"\n",
    "data = urlopen(ontourl).read() #bytes\n",
    "ontostring = data.decode('utf-8')\n",
    "\n",
    "onto2 = pyhornedowl.open_ontology(ontostring)\n",
    "\n",
    "print (f\"Loaded ontology has {len(onto2.get_classes())} classes.\")\n",
    "print (f\"Loaded ontology has {len(onto2.get_axioms())} axioms.\")"
   ]
  }
 ],
 "metadata": {
  "kernelspec": {
   "display_name": "venv",
   "language": "python",
   "name": "python3"
  },
  "language_info": {
   "codemirror_mode": {
    "name": "ipython",
    "version": 3
   },
   "file_extension": ".py",
   "mimetype": "text/x-python",
   "name": "python",
   "nbconvert_exporter": "python",
   "pygments_lexer": "ipython3",
   "version": "3.9.6"
  }
 },
 "nbformat": 4,
 "nbformat_minor": 4
}
